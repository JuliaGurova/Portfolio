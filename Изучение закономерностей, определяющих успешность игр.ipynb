{
 "cells": [
  {
   "cell_type": "markdown",
   "id": "4aa3e75f",
   "metadata": {},
   "source": [
    "# Сборный проект - 1"
   ]
  },
  {
   "cell_type": "markdown",
   "id": "9a055d8a",
   "metadata": {},
   "source": [
    "Вы работаете в интернет-магазине «Стримчик», который продаёт по всему миру компьютерные игры. Из открытых источников доступны исторические данные о продажах игр, оценки пользователей и экспертов, жанры и платформы (например, Xbox или PlayStation). Вам нужно выявить определяющие успешность игры закономерности. Это позволит сделать ставку на потенциально популярный продукт и спланировать рекламные кампании.  \n",
    "\n",
    "Перед вами данные до 2016 года. Представим, что сейчас декабрь 2016 г., и вы планируете кампанию на 2017-й. Нужно отработать принцип работы с данными. Неважно, прогнозируете ли вы продажи на 2017 год по данным 2016-го или же 2027-й — по данным 2026 года.     \n",
    "\n",
    "В наборе данных попадается аббревиатура ESRB (Entertainment Software Rating Board) — это ассоциация, определяющая возрастной рейтинг компьютерных игр. ESRB оценивает игровой контент и присваивает ему подходящую возрастную категорию, например, «Для взрослых», «Для детей младшего возраста» или «Для подростков»."
   ]
  },
  {
   "cell_type": "markdown",
   "id": "a02a06be",
   "metadata": {},
   "source": [
    "## Оглавление:\n",
    "* [Шаг 1 - изучение данных](#first-bullet)\n",
    "* [Шаг 2 - Подготовка данных](#second-bullet)\n",
    "* [Шаг 3. Проведите исследовательский анализ данных](#third-bullet)\n",
    "* [Шаг 4. Составьте портрет пользователя каждого региона](#fourth-bullet)\n",
    "* [Шаг 5. Проверьте гипотезы](#fifth-bullet)\n",
    "* [Шаг 6. Напишите общий вывод](#sixth-bullet)"
   ]
  },
  {
   "cell_type": "markdown",
   "id": "41226791",
   "metadata": {},
   "source": [
    "## Шаг 1 - изучение данных <a class=\"anchor\" id=\"first-bullet\"></a>"
   ]
  },
  {
   "cell_type": "markdown",
   "id": "6878c039",
   "metadata": {},
   "source": [
    "###  Откройте файл с данными и изучите общую информацию"
   ]
  },
  {
   "cell_type": "code",
   "execution_count": 1,
   "id": "9298e4a1",
   "metadata": {},
   "outputs": [],
   "source": [
    "import pandas as pd\n",
    "import matplotlib as mpl\n",
    "import matplotlib.pyplot as plt\n",
    "from scipy import stats as st\n",
    "import numpy as np\n",
    "import seaborn as sns"
   ]
  },
  {
   "cell_type": "code",
   "execution_count": 2,
   "id": "9963e836",
   "metadata": {},
   "outputs": [
    {
     "data": {
      "text/html": [
       "<div>\n",
       "<style scoped>\n",
       "    .dataframe tbody tr th:only-of-type {\n",
       "        vertical-align: middle;\n",
       "    }\n",
       "\n",
       "    .dataframe tbody tr th {\n",
       "        vertical-align: top;\n",
       "    }\n",
       "\n",
       "    .dataframe thead th {\n",
       "        text-align: right;\n",
       "    }\n",
       "</style>\n",
       "<table border=\"1\" class=\"dataframe\">\n",
       "  <thead>\n",
       "    <tr style=\"text-align: right;\">\n",
       "      <th></th>\n",
       "      <th>Name</th>\n",
       "      <th>Platform</th>\n",
       "      <th>Year_of_Release</th>\n",
       "      <th>Genre</th>\n",
       "      <th>NA_sales</th>\n",
       "      <th>EU_sales</th>\n",
       "      <th>JP_sales</th>\n",
       "      <th>Other_sales</th>\n",
       "      <th>Critic_Score</th>\n",
       "      <th>User_Score</th>\n",
       "      <th>Rating</th>\n",
       "    </tr>\n",
       "  </thead>\n",
       "  <tbody>\n",
       "    <tr>\n",
       "      <th>0</th>\n",
       "      <td>Wii Sports</td>\n",
       "      <td>Wii</td>\n",
       "      <td>2006.0</td>\n",
       "      <td>Sports</td>\n",
       "      <td>41.36</td>\n",
       "      <td>28.96</td>\n",
       "      <td>3.77</td>\n",
       "      <td>8.45</td>\n",
       "      <td>76.0</td>\n",
       "      <td>8</td>\n",
       "      <td>E</td>\n",
       "    </tr>\n",
       "    <tr>\n",
       "      <th>1</th>\n",
       "      <td>Super Mario Bros.</td>\n",
       "      <td>NES</td>\n",
       "      <td>1985.0</td>\n",
       "      <td>Platform</td>\n",
       "      <td>29.08</td>\n",
       "      <td>3.58</td>\n",
       "      <td>6.81</td>\n",
       "      <td>0.77</td>\n",
       "      <td>NaN</td>\n",
       "      <td>NaN</td>\n",
       "      <td>NaN</td>\n",
       "    </tr>\n",
       "    <tr>\n",
       "      <th>2</th>\n",
       "      <td>Mario Kart Wii</td>\n",
       "      <td>Wii</td>\n",
       "      <td>2008.0</td>\n",
       "      <td>Racing</td>\n",
       "      <td>15.68</td>\n",
       "      <td>12.76</td>\n",
       "      <td>3.79</td>\n",
       "      <td>3.29</td>\n",
       "      <td>82.0</td>\n",
       "      <td>8.3</td>\n",
       "      <td>E</td>\n",
       "    </tr>\n",
       "    <tr>\n",
       "      <th>3</th>\n",
       "      <td>Wii Sports Resort</td>\n",
       "      <td>Wii</td>\n",
       "      <td>2009.0</td>\n",
       "      <td>Sports</td>\n",
       "      <td>15.61</td>\n",
       "      <td>10.93</td>\n",
       "      <td>3.28</td>\n",
       "      <td>2.95</td>\n",
       "      <td>80.0</td>\n",
       "      <td>8</td>\n",
       "      <td>E</td>\n",
       "    </tr>\n",
       "    <tr>\n",
       "      <th>4</th>\n",
       "      <td>Pokemon Red/Pokemon Blue</td>\n",
       "      <td>GB</td>\n",
       "      <td>1996.0</td>\n",
       "      <td>Role-Playing</td>\n",
       "      <td>11.27</td>\n",
       "      <td>8.89</td>\n",
       "      <td>10.22</td>\n",
       "      <td>1.00</td>\n",
       "      <td>NaN</td>\n",
       "      <td>NaN</td>\n",
       "      <td>NaN</td>\n",
       "    </tr>\n",
       "    <tr>\n",
       "      <th>5</th>\n",
       "      <td>Tetris</td>\n",
       "      <td>GB</td>\n",
       "      <td>1989.0</td>\n",
       "      <td>Puzzle</td>\n",
       "      <td>23.20</td>\n",
       "      <td>2.26</td>\n",
       "      <td>4.22</td>\n",
       "      <td>0.58</td>\n",
       "      <td>NaN</td>\n",
       "      <td>NaN</td>\n",
       "      <td>NaN</td>\n",
       "    </tr>\n",
       "    <tr>\n",
       "      <th>6</th>\n",
       "      <td>New Super Mario Bros.</td>\n",
       "      <td>DS</td>\n",
       "      <td>2006.0</td>\n",
       "      <td>Platform</td>\n",
       "      <td>11.28</td>\n",
       "      <td>9.14</td>\n",
       "      <td>6.50</td>\n",
       "      <td>2.88</td>\n",
       "      <td>89.0</td>\n",
       "      <td>8.5</td>\n",
       "      <td>E</td>\n",
       "    </tr>\n",
       "    <tr>\n",
       "      <th>7</th>\n",
       "      <td>Wii Play</td>\n",
       "      <td>Wii</td>\n",
       "      <td>2006.0</td>\n",
       "      <td>Misc</td>\n",
       "      <td>13.96</td>\n",
       "      <td>9.18</td>\n",
       "      <td>2.93</td>\n",
       "      <td>2.84</td>\n",
       "      <td>58.0</td>\n",
       "      <td>6.6</td>\n",
       "      <td>E</td>\n",
       "    </tr>\n",
       "    <tr>\n",
       "      <th>8</th>\n",
       "      <td>New Super Mario Bros. Wii</td>\n",
       "      <td>Wii</td>\n",
       "      <td>2009.0</td>\n",
       "      <td>Platform</td>\n",
       "      <td>14.44</td>\n",
       "      <td>6.94</td>\n",
       "      <td>4.70</td>\n",
       "      <td>2.24</td>\n",
       "      <td>87.0</td>\n",
       "      <td>8.4</td>\n",
       "      <td>E</td>\n",
       "    </tr>\n",
       "    <tr>\n",
       "      <th>9</th>\n",
       "      <td>Duck Hunt</td>\n",
       "      <td>NES</td>\n",
       "      <td>1984.0</td>\n",
       "      <td>Shooter</td>\n",
       "      <td>26.93</td>\n",
       "      <td>0.63</td>\n",
       "      <td>0.28</td>\n",
       "      <td>0.47</td>\n",
       "      <td>NaN</td>\n",
       "      <td>NaN</td>\n",
       "      <td>NaN</td>\n",
       "    </tr>\n",
       "  </tbody>\n",
       "</table>\n",
       "</div>"
      ],
      "text/plain": [
       "                        Name Platform  Year_of_Release         Genre  \\\n",
       "0                 Wii Sports      Wii           2006.0        Sports   \n",
       "1          Super Mario Bros.      NES           1985.0      Platform   \n",
       "2             Mario Kart Wii      Wii           2008.0        Racing   \n",
       "3          Wii Sports Resort      Wii           2009.0        Sports   \n",
       "4   Pokemon Red/Pokemon Blue       GB           1996.0  Role-Playing   \n",
       "5                     Tetris       GB           1989.0        Puzzle   \n",
       "6      New Super Mario Bros.       DS           2006.0      Platform   \n",
       "7                   Wii Play      Wii           2006.0          Misc   \n",
       "8  New Super Mario Bros. Wii      Wii           2009.0      Platform   \n",
       "9                  Duck Hunt      NES           1984.0       Shooter   \n",
       "\n",
       "   NA_sales  EU_sales  JP_sales  Other_sales  Critic_Score User_Score Rating  \n",
       "0     41.36     28.96      3.77         8.45          76.0          8      E  \n",
       "1     29.08      3.58      6.81         0.77           NaN        NaN    NaN  \n",
       "2     15.68     12.76      3.79         3.29          82.0        8.3      E  \n",
       "3     15.61     10.93      3.28         2.95          80.0          8      E  \n",
       "4     11.27      8.89     10.22         1.00           NaN        NaN    NaN  \n",
       "5     23.20      2.26      4.22         0.58           NaN        NaN    NaN  \n",
       "6     11.28      9.14      6.50         2.88          89.0        8.5      E  \n",
       "7     13.96      9.18      2.93         2.84          58.0        6.6      E  \n",
       "8     14.44      6.94      4.70         2.24          87.0        8.4      E  \n",
       "9     26.93      0.63      0.28         0.47           NaN        NaN    NaN  "
      ]
     },
     "metadata": {},
     "output_type": "display_data"
    }
   ],
   "source": [
    "try:\n",
    "    games = pd.read_csv('/home/juliya/Загрузки/games.csv')\n",
    "except:\n",
    "    games = pd.read_csv('/datasets/games.csv')\n",
    "    \n",
    "display(games.head(10))"
   ]
  },
  {
   "cell_type": "code",
   "execution_count": 3,
   "id": "05dfe58a",
   "metadata": {},
   "outputs": [
    {
     "name": "stdout",
     "output_type": "stream",
     "text": [
      "<class 'pandas.core.frame.DataFrame'>\n",
      "RangeIndex: 16715 entries, 0 to 16714\n",
      "Data columns (total 11 columns):\n",
      " #   Column           Non-Null Count  Dtype  \n",
      "---  ------           --------------  -----  \n",
      " 0   Name             16713 non-null  object \n",
      " 1   Platform         16715 non-null  object \n",
      " 2   Year_of_Release  16446 non-null  float64\n",
      " 3   Genre            16713 non-null  object \n",
      " 4   NA_sales         16715 non-null  float64\n",
      " 5   EU_sales         16715 non-null  float64\n",
      " 6   JP_sales         16715 non-null  float64\n",
      " 7   Other_sales      16715 non-null  float64\n",
      " 8   Critic_Score     8137 non-null   float64\n",
      " 9   User_Score       10014 non-null  object \n",
      " 10  Rating           9949 non-null   object \n",
      "dtypes: float64(6), object(5)\n",
      "memory usage: 1.4+ MB\n"
     ]
    }
   ],
   "source": [
    "games.info()"
   ]
  },
  {
   "cell_type": "code",
   "execution_count": 4,
   "id": "2283904c",
   "metadata": {},
   "outputs": [
    {
     "data": {
      "text/plain": [
       "Name                  2\n",
       "Platform              0\n",
       "Year_of_Release     269\n",
       "Genre                 2\n",
       "NA_sales              0\n",
       "EU_sales              0\n",
       "JP_sales              0\n",
       "Other_sales           0\n",
       "Critic_Score       8578\n",
       "User_Score         6701\n",
       "Rating             6766\n",
       "dtype: int64"
      ]
     },
     "execution_count": 4,
     "metadata": {},
     "output_type": "execute_result"
    }
   ],
   "source": [
    "games.isna().sum()"
   ]
  },
  {
   "cell_type": "code",
   "execution_count": 5,
   "id": "bcd0d1d1",
   "metadata": {},
   "outputs": [
    {
     "data": {
      "text/plain": [
       "array(['Sports', 'Platform', 'Racing', 'Role-Playing', 'Puzzle', 'Misc',\n",
       "       'Shooter', 'Simulation', 'Action', 'Fighting', 'Adventure',\n",
       "       'Strategy', nan], dtype=object)"
      ]
     },
     "execution_count": 5,
     "metadata": {},
     "output_type": "execute_result"
    }
   ],
   "source": [
    "games['Genre'].unique()"
   ]
  },
  {
   "cell_type": "markdown",
   "id": "5d42306d",
   "metadata": {},
   "source": [
    "Что вижу по таблице:\n",
    "1. Нужно изменить названия колонок, чтобы всё было в нижнем регистре\n",
    "2. Стоблец с годом релиза - можно перевести в int/datetime\n",
    "3. В столбце с жанрами нет неявных дублей\n",
    "4. Есть пропуски в стоблуах с оценками. Предварительно можно выдвинуть гипотезу о том, что оценок критиков нет у старых фильмов\n",
    "5. Столбец с рейтингом - включает в себя категориальные переменные\n",
    "6. Столбец с оценками пользвателей - нужно изменить тип данных на float\n",
    "7. Столбец с оценками критиков - перевести в int"
   ]
  },
  {
   "cell_type": "markdown",
   "id": "d20fa647",
   "metadata": {},
   "source": [
    "## Шаг 2 - Подготовка данных  <a class=\"anchor\" id=\"second-bullet\"></a> "
   ]
  },
  {
   "cell_type": "markdown",
   "id": "570c84ce",
   "metadata": {},
   "source": [
    "### Задание 1:   \n",
    "Замените названия столбцов (приведите к нижнему регистру)"
   ]
  },
  {
   "cell_type": "code",
   "execution_count": 6,
   "id": "3f18f5bb",
   "metadata": {},
   "outputs": [
    {
     "data": {
      "text/html": [
       "<div>\n",
       "<style scoped>\n",
       "    .dataframe tbody tr th:only-of-type {\n",
       "        vertical-align: middle;\n",
       "    }\n",
       "\n",
       "    .dataframe tbody tr th {\n",
       "        vertical-align: top;\n",
       "    }\n",
       "\n",
       "    .dataframe thead th {\n",
       "        text-align: right;\n",
       "    }\n",
       "</style>\n",
       "<table border=\"1\" class=\"dataframe\">\n",
       "  <thead>\n",
       "    <tr style=\"text-align: right;\">\n",
       "      <th></th>\n",
       "      <th>name</th>\n",
       "      <th>platform</th>\n",
       "      <th>year_of_release</th>\n",
       "      <th>genre</th>\n",
       "      <th>na_sales</th>\n",
       "      <th>eu_sales</th>\n",
       "      <th>jp_sales</th>\n",
       "      <th>other_sales</th>\n",
       "      <th>critic_score</th>\n",
       "      <th>user_score</th>\n",
       "      <th>rating</th>\n",
       "    </tr>\n",
       "  </thead>\n",
       "  <tbody>\n",
       "    <tr>\n",
       "      <th>0</th>\n",
       "      <td>Wii Sports</td>\n",
       "      <td>Wii</td>\n",
       "      <td>2006.0</td>\n",
       "      <td>Sports</td>\n",
       "      <td>41.36</td>\n",
       "      <td>28.96</td>\n",
       "      <td>3.77</td>\n",
       "      <td>8.45</td>\n",
       "      <td>76.0</td>\n",
       "      <td>8</td>\n",
       "      <td>E</td>\n",
       "    </tr>\n",
       "    <tr>\n",
       "      <th>1</th>\n",
       "      <td>Super Mario Bros.</td>\n",
       "      <td>NES</td>\n",
       "      <td>1985.0</td>\n",
       "      <td>Platform</td>\n",
       "      <td>29.08</td>\n",
       "      <td>3.58</td>\n",
       "      <td>6.81</td>\n",
       "      <td>0.77</td>\n",
       "      <td>NaN</td>\n",
       "      <td>NaN</td>\n",
       "      <td>NaN</td>\n",
       "    </tr>\n",
       "    <tr>\n",
       "      <th>2</th>\n",
       "      <td>Mario Kart Wii</td>\n",
       "      <td>Wii</td>\n",
       "      <td>2008.0</td>\n",
       "      <td>Racing</td>\n",
       "      <td>15.68</td>\n",
       "      <td>12.76</td>\n",
       "      <td>3.79</td>\n",
       "      <td>3.29</td>\n",
       "      <td>82.0</td>\n",
       "      <td>8.3</td>\n",
       "      <td>E</td>\n",
       "    </tr>\n",
       "    <tr>\n",
       "      <th>3</th>\n",
       "      <td>Wii Sports Resort</td>\n",
       "      <td>Wii</td>\n",
       "      <td>2009.0</td>\n",
       "      <td>Sports</td>\n",
       "      <td>15.61</td>\n",
       "      <td>10.93</td>\n",
       "      <td>3.28</td>\n",
       "      <td>2.95</td>\n",
       "      <td>80.0</td>\n",
       "      <td>8</td>\n",
       "      <td>E</td>\n",
       "    </tr>\n",
       "    <tr>\n",
       "      <th>4</th>\n",
       "      <td>Pokemon Red/Pokemon Blue</td>\n",
       "      <td>GB</td>\n",
       "      <td>1996.0</td>\n",
       "      <td>Role-Playing</td>\n",
       "      <td>11.27</td>\n",
       "      <td>8.89</td>\n",
       "      <td>10.22</td>\n",
       "      <td>1.00</td>\n",
       "      <td>NaN</td>\n",
       "      <td>NaN</td>\n",
       "      <td>NaN</td>\n",
       "    </tr>\n",
       "  </tbody>\n",
       "</table>\n",
       "</div>"
      ],
      "text/plain": [
       "                       name platform  year_of_release         genre  na_sales  \\\n",
       "0                Wii Sports      Wii           2006.0        Sports     41.36   \n",
       "1         Super Mario Bros.      NES           1985.0      Platform     29.08   \n",
       "2            Mario Kart Wii      Wii           2008.0        Racing     15.68   \n",
       "3         Wii Sports Resort      Wii           2009.0        Sports     15.61   \n",
       "4  Pokemon Red/Pokemon Blue       GB           1996.0  Role-Playing     11.27   \n",
       "\n",
       "   eu_sales  jp_sales  other_sales  critic_score user_score rating  \n",
       "0     28.96      3.77         8.45          76.0          8      E  \n",
       "1      3.58      6.81         0.77           NaN        NaN    NaN  \n",
       "2     12.76      3.79         3.29          82.0        8.3      E  \n",
       "3     10.93      3.28         2.95          80.0          8      E  \n",
       "4      8.89     10.22         1.00           NaN        NaN    NaN  "
      ]
     },
     "metadata": {},
     "output_type": "display_data"
    }
   ],
   "source": [
    "games = games.rename(\n",
    "   columns={\n",
    "       'Name':'name',\n",
    "       'Platform':'platform',\n",
    "       'Year_of_Release':'year_of_release',\n",
    "       'Genre':'genre',\n",
    "       'NA_sales':'na_sales',\n",
    "       'EU_sales':'eu_sales',\n",
    "       'JP_sales':'jp_sales',\n",
    "       'Other_sales':'other_sales',\n",
    "       'Critic_Score':'critic_score',\n",
    "       'User_Score':'user_score',\n",
    "       'Rating':'rating'\n",
    "   })\n",
    "display(games.head())"
   ]
  },
  {
   "cell_type": "markdown",
   "id": "402138b9",
   "metadata": {},
   "source": [
    "### Задание 2 и 3: \n",
    "\n",
    "2. Преобразуйте данные в нужные типы. Опишите, в каких столбцах заменили тип данных и почему;\n",
    "3. Обработайте пропуски при необходимости. Объясните, почему заполнили пропуски определённым образом или почему не стали это делать. Опишите причины, которые могли привести к пропускам. Обратите внимание на аббревиатуру 'tbd' в столбце с оценкой пользователей. Отдельно разберите это значение и опишите, как его обработать;\n",
    "\n"
   ]
  },
  {
   "cell_type": "code",
   "execution_count": 7,
   "id": "71588fcb",
   "metadata": {},
   "outputs": [
    {
     "name": "stdout",
     "output_type": "stream",
     "text": [
      "269\n"
     ]
    }
   ],
   "source": [
    "print(games['year_of_release'].isna().sum())"
   ]
  },
  {
   "cell_type": "code",
   "execution_count": 8,
   "id": "bf0e9381",
   "metadata": {},
   "outputs": [],
   "source": [
    "games = games.dropna(subset=['year_of_release'])"
   ]
  },
  {
   "cell_type": "code",
   "execution_count": 9,
   "id": "7a0f0339",
   "metadata": {},
   "outputs": [],
   "source": [
    "games['year_of_release'] = pd.to_datetime(games['year_of_release'], format='%Y')\n",
    "games['year_of_release'] = pd.DatetimeIndex(games['year_of_release']).year"
   ]
  },
  {
   "cell_type": "code",
   "execution_count": 10,
   "id": "21de8acf",
   "metadata": {},
   "outputs": [
    {
     "name": "stdout",
     "output_type": "stream",
     "text": [
      "tbd    2376\n",
      "7.8     322\n",
      "8       285\n",
      "8.2     276\n",
      "8.3     252\n",
      "Name: user_score, dtype: int64\n"
     ]
    }
   ],
   "source": [
    "print(games['user_score'].value_counts().head())"
   ]
  },
  {
   "cell_type": "code",
   "execution_count": 11,
   "id": "6883d930",
   "metadata": {},
   "outputs": [],
   "source": [
    "games['user_score'] = pd.to_numeric(games['user_score'], errors='coerce')"
   ]
  },
  {
   "cell_type": "markdown",
   "id": "34e87674",
   "metadata": {},
   "source": [
    "В данном столбце встречались значения 'tbd'. Судя по переводу такие данные нужно вводить отдельно, но их довольно много, поэтому ставлю замену в виде пропуска."
   ]
  },
  {
   "cell_type": "code",
   "execution_count": 12,
   "id": "6f09e33d",
   "metadata": {},
   "outputs": [
    {
     "name": "stdout",
     "output_type": "stream",
     "text": [
      "                     mean                  median           \n",
      "             critic_score user_score critic_score user_score\n",
      "genre                                                       \n",
      "Action          66.676931   7.058129         68.0        7.4\n",
      "Adventure       65.268750   7.139597         66.0        7.6\n",
      "Fighting        69.155556   7.295949         72.0        7.6\n",
      "Misc            66.648330   6.805828         69.0        7.1\n",
      "Platform        68.124490   7.305896         69.5        7.7\n",
      "Puzzle          67.231818   7.138400         70.0        7.5\n",
      "Racing          68.006897   7.040859         69.0        7.4\n",
      "Role-Playing    72.655267   7.624423         74.0        7.8\n",
      "Shooter         70.260022   7.053260         73.0        7.4\n",
      "Simulation      68.609195   7.132153         70.0        7.5\n",
      "Sports          71.993133   6.951434         75.0        7.4\n",
      "Strategy        72.158784   7.294426         73.0        7.8\n"
     ]
    }
   ],
   "source": [
    "# пытаюсь понять как оптимальнее обработать пропуски в столбцах 'critic_score','user_score'\n",
    "print(games.pivot_table(index='genre',values=['critic_score','user_score'], aggfunc=['mean', 'median']))"
   ]
  },
  {
   "cell_type": "code",
   "execution_count": 14,
   "id": "77c1f5d9",
   "metadata": {},
   "outputs": [
    {
     "data": {
      "text/plain": [
       "6678"
      ]
     },
     "metadata": {},
     "output_type": "display_data"
    },
    {
     "data": {
      "text/plain": [
       "E       3921\n",
       "T       2905\n",
       "M       1536\n",
       "E10+    1393\n",
       "EC         8\n",
       "K-A        3\n",
       "RP         1\n",
       "AO         1\n",
       "Name: rating, dtype: int64"
      ]
     },
     "execution_count": 14,
     "metadata": {},
     "output_type": "execute_result"
    }
   ],
   "source": [
    "display(games['rating'].isna().sum())\n",
    "games['rating'].value_counts()"
   ]
  },
  {
   "cell_type": "markdown",
   "id": "169184b4",
   "metadata": {},
   "source": [
    "Объяснения:\n",
    "1. 'year_of_release' - перевожу в datetime. Пропуски удаляю тк их немного, это не повляет на данные\n",
    "2. 'user_score' - перевожу в float, тк стоит тип object.\n",
    "3. 'rating' пропуски оставляю тк на основе текущих данных заменить их чем-либо нельзя. Удалять пропуски будет тоже плохо тк их слишком много, это сильно исказит данные"
   ]
  },
  {
   "cell_type": "code",
   "execution_count": 15,
   "id": "aabc164b",
   "metadata": {},
   "outputs": [
    {
     "name": "stdout",
     "output_type": "stream",
     "text": [
      "0\n"
     ]
    }
   ],
   "source": [
    "# проверка на полные дубликаты строк\n",
    "print(games.duplicated().sum())"
   ]
  },
  {
   "cell_type": "code",
   "execution_count": 16,
   "id": "0c357792",
   "metadata": {},
   "outputs": [
    {
     "data": {
      "text/plain": [
       "2"
      ]
     },
     "metadata": {},
     "output_type": "display_data"
    }
   ],
   "source": [
    "# проверка на наличие неявных дубликатов (совпадающие по названию, платформе и году релиза одновременно)\n",
    "display(games.duplicated(['name', 'platform', 'year_of_release']).sum())"
   ]
  },
  {
   "cell_type": "code",
   "execution_count": 17,
   "id": "b9537ace",
   "metadata": {},
   "outputs": [
    {
     "data": {
      "text/plain": [
       "(16446, 11)"
      ]
     },
     "execution_count": 17,
     "metadata": {},
     "output_type": "execute_result"
    }
   ],
   "source": [
    "# проверяю размер таблицы, чтобы после удаления дублей сравнить\n",
    "games.shape"
   ]
  },
  {
   "cell_type": "code",
   "execution_count": 18,
   "id": "1a6ea59d",
   "metadata": {},
   "outputs": [],
   "source": [
    "# удаление 2х дублей\n",
    "games = games.drop_duplicates(['name', 'platform', 'year_of_release'])"
   ]
  },
  {
   "cell_type": "code",
   "execution_count": 19,
   "id": "a23fb0f6",
   "metadata": {},
   "outputs": [
    {
     "data": {
      "text/plain": [
       "(16444, 11)"
      ]
     },
     "execution_count": 19,
     "metadata": {},
     "output_type": "execute_result"
    }
   ],
   "source": [
    "games.shape"
   ]
  },
  {
   "cell_type": "markdown",
   "id": "9fa33d3e",
   "metadata": {},
   "source": [
    "### Задание 3:   \n",
    "Посчитайте суммарные продажи во всех регионах и запишите их в отдельный столбец "
   ]
  },
  {
   "cell_type": "code",
   "execution_count": 20,
   "id": "661e299f",
   "metadata": {},
   "outputs": [],
   "source": [
    "games['total_sales'] = games['na_sales'] + games['eu_sales'] + games['jp_sales'] + games['other_sales']"
   ]
  },
  {
   "cell_type": "markdown",
   "id": "8a5108cf",
   "metadata": {},
   "source": [
    "Вывод:\n",
    "\n",
    "1. Названия столбцов приведены в нижний регистр\n",
    "2. В столбцах \"year_of_release\" и \"user_score\" изменен тип данных \n",
    "3. Обработаны значения \"tbd\" в стоблце \"user_score\"\n",
    "4. Пропуски в оценках пользователей и критиков оставлены тк оценки уже являются усредненным значением выборки оценок некоторого количества пользователей\n",
    "5. Произведена проверка на наличие дубликатов"
   ]
  },
  {
   "cell_type": "markdown",
   "id": "b06ef8e2",
   "metadata": {},
   "source": [
    "## Шаг 3. Проведите исследовательский анализ данных   <a class=\"anchor\" id=\"third-bullet\"></a>"
   ]
  },
  {
   "cell_type": "markdown",
   "id": "ff43b6b5",
   "metadata": {},
   "source": [
    "### Задание 1:\n",
    "Посмотрите, сколько игр выпускалось в разные годы. Важны ли данные за все периоды?"
   ]
  },
  {
   "cell_type": "code",
   "execution_count": 21,
   "id": "3b659381",
   "metadata": {},
   "outputs": [
    {
     "data": {
      "image/png": "[encoded data removed]",
      "text/plain": [
       "<Figure size 576x360 with 1 Axes>"
      ]
     },
     "metadata": {
      "needs_background": "light"
     },
     "output_type": "display_data"
    }
   ],
   "source": [
    "#print(games.pivot_table(index='year_of_release', values='name', aggfunc='count').sort_values(by='name', ascending=False).plot(kind='bar'))\n",
    "games.pivot_table(index='year_of_release',\n",
    "                  values='name', aggfunc='count').plot(kind='bar',\n",
    "                  title=' Выпуск игр за весь период', figsize=(8,5), legend=False)\n",
    "plt.xlabel('Год')\n",
    "plt.ylabel('Количество игр')\n",
    "plt.show()"
   ]
  },
  {
   "cell_type": "markdown",
   "id": "b5fa4116",
   "metadata": {},
   "source": [
    "Первое, что бросается в глаза - быстрый рост до 2008 года. Далее идет спад по количеству выпускаемых игр\n",
    "\n",
    "На мой взгляд, тк нам нужно планировать кампанию на 2017, то оптимальнее брать данные за последние 3года (макс 5 лет), чтобы отследить тренды, оценки и выпустить более актуальное предложение"
   ]
  },
  {
   "cell_type": "markdown",
   "id": "266fa015",
   "metadata": {},
   "source": [
    "### Задание 2:\n",
    "Посмотрите, как менялись продажи по платформам. Выберите платформы с наибольшими суммарными продажами и постройте распределение по годам. За какой характерный срок появляются новые и исчезают старые платформы?\n"
   ]
  },
  {
   "cell_type": "code",
   "execution_count": 22,
   "id": "c11e6885",
   "metadata": {},
   "outputs": [
    {
     "name": "stdout",
     "output_type": "stream",
     "text": [
      "          total_sales\n",
      "platform             \n",
      "PS2           1233.56\n",
      "X360           961.24\n",
      "PS3            931.33\n",
      "Wii            891.18\n",
      "DS             802.78\n",
      "PS             727.58\n",
      "PS4            314.14\n",
      "GBA            312.88\n",
      "PSP            289.53\n",
      "3DS            257.81\n"
     ]
    }
   ],
   "source": [
    "max_sale = games.pivot_table(index='platform', values='total_sales', aggfunc='sum').sort_values(by='total_sales' , ascending=False).head(10)\n",
    "print(max_sale)"
   ]
  },
  {
   "cell_type": "code",
   "execution_count": 23,
   "id": "898e3454",
   "metadata": {},
   "outputs": [],
   "source": [
    "platform_max_sales = ['PS2', 'X360', 'PS3', 'Wii', 'DS']"
   ]
  },
  {
   "cell_type": "code",
   "execution_count": 24,
   "id": "e8a7da5f",
   "metadata": {},
   "outputs": [
    {
     "name": "stdout",
     "output_type": "stream",
     "text": [
      "AxesSubplot(0.125,0.125;0.775x0.755)\n"
     ]
    },
    {
     "data": {
      "image/png": "[encoded data removed]",
      "text/plain": [
       "<Figure size 504x216 with 1 Axes>"
      ]
     },
     "metadata": {
      "needs_background": "light"
     },
     "output_type": "display_data"
    },
    {
     "name": "stdout",
     "output_type": "stream",
     "text": [
      "AxesSubplot(0.125,0.125;0.775x0.755)\n"
     ]
    },
    {
     "data": {
      "image/png": "[encoded data removed]",
      "text/plain": [
       "<Figure size 504x216 with 1 Axes>"
      ]
     },
     "metadata": {
      "needs_background": "light"
     },
     "output_type": "display_data"
    },
    {
     "name": "stdout",
     "output_type": "stream",
     "text": [
      "AxesSubplot(0.125,0.125;0.775x0.755)\n"
     ]
    },
    {
     "data": {
      "image/png": "[encoded data removed]",
      "text/plain": [
       "<Figure size 504x216 with 1 Axes>"
      ]
     },
     "metadata": {
      "needs_background": "light"
     },
     "output_type": "display_data"
    },
    {
     "name": "stdout",
     "output_type": "stream",
     "text": [
      "AxesSubplot(0.125,0.125;0.775x0.755)\n"
     ]
    },
    {
     "data": {
      "image/png": "[encoded data removed]",
      "text/plain": [
       "<Figure size 504x216 with 1 Axes>"
      ]
     },
     "metadata": {
      "needs_background": "light"
     },
     "output_type": "display_data"
    },
    {
     "name": "stdout",
     "output_type": "stream",
     "text": [
      "AxesSubplot(0.125,0.125;0.775x0.755)\n"
     ]
    },
    {
     "data": {
      "image/png": "[encoded data removed]",
      "text/plain": [
       "<Figure size 504x216 with 1 Axes>"
      ]
     },
     "metadata": {
      "needs_background": "light"
     },
     "output_type": "display_data"
    }
   ],
   "source": [
    "# размер графиков подобран для удобного изучения на небольшом экране ноута (какой и есть у меня)\n",
    "for pl in games['platform'].unique():\n",
    "    for pl_2 in platform_max_sales:\n",
    "        if pl == pl_2:\n",
    "            print(games.loc[games['platform'] == pl].pivot_table(index=['year_of_release'],\n",
    "                       values='total_sales', aggfunc='sum').plot(kind='bar', grid=True, title=pl,\n",
    "                                                                 figsize=(7,3), legend=False))\n",
    "            plt.xlabel('Платформа')\n",
    "            plt.ylabel('Сумма продаж копий, млн')\n",
    "            plt.show()"
   ]
  },
  {
   "cell_type": "markdown",
   "id": "5a853b55",
   "metadata": {},
   "source": [
    "Вывод:\n",
    "1. Платформа Wii появилась в 2006 году. Пик продаж игр пришелся на 2009 год. Далее пошел спад интереса\n",
    "2. Платформа DS - основной массив игр вышло с 2005 по 2009 год\n",
    "3. Платформа X360 появилась в 2005 году. Пик продаж копий пришелся на 2010 год. Далее пошел спад интереса\n",
    "4. Платформа PS3 появилась в 2006 году. Пик продаж копий пришелся на 2011 год. Далее пошел спад интереса\n",
    "5. Платформа PS2 появилась в 2000 году. Пик продаж копий пришелся на 2004 год. Далее пошел спад интереса"
   ]
  },
  {
   "cell_type": "code",
   "execution_count": 25,
   "id": "1b8cc737",
   "metadata": {},
   "outputs": [
    {
     "name": "stdout",
     "output_type": "stream",
     "text": [
      "AxesSubplot(0.125,0.125;0.775x0.755)\n"
     ]
    },
    {
     "data": {
      "image/png": "[encoded data removed]",
      "text/plain": [
       "<Figure size 432x288 with 1 Axes>"
      ]
     },
     "metadata": {
      "needs_background": "light"
     },
     "output_type": "display_data"
    }
   ],
   "source": [
    "print(games.pivot_table(index='year_of_release', values='total_sales', aggfunc='sum').\n",
    "      plot(kind='bar', grid=True, title='История продаж', legend=False))\n",
    "plt.xlabel('Год')\n",
    "plt.ylabel('Сумма продаж')\n",
    "plt.show()"
   ]
  },
  {
   "cell_type": "markdown",
   "id": "aa958cab",
   "metadata": {},
   "source": [
    "Вывод:\n",
    "1. С 1993 года виден устойчивый рост интреса к игровой индустрии\n",
    "2. Пик продаж копий приходится на 2008 год. Можем выдвинуть гипотезу - был пик по выпуску игр, соотвественно и покупали больше \n",
    "3. После 2009 года начался спад по покупке игр\n",
    "4. В 2016 году продажи игр снизились в 2 раза (по сравнению с 2015г), хотя объемы появления новых игр снизились незначительно за тот год"
   ]
  },
  {
   "cell_type": "code",
   "execution_count": 26,
   "id": "5cad1a63",
   "metadata": {},
   "outputs": [
    {
     "name": "stdout",
     "output_type": "stream",
     "text": [
      "          lasr_year  first_year  count_years\n",
      "platform                                    \n",
      "PC             2016        1985           31\n",
      "DS             2013        1985           28\n",
      "GB             2001        1988           13\n",
      "X360           2016        2005           11\n",
      "PSP            2015        2004           11\n",
      "PS2            2011        2000           11\n",
      "NES            1994        1983           11\n",
      "DC             2008        1998           10\n",
      "Wii            2016        2006           10\n",
      "PS3            2016        2006           10\n",
      "2600           1989        1980            9\n",
      "SNES           1999        1990            9\n",
      "PS             2003        1994            9\n",
      "XB             2008        2000            8\n",
      "GBA            2007        2000            7\n",
      "GC             2007        2001            6\n",
      "N64            2002        1996            6\n",
      "3DS            2016        2011            5\n",
      "PSV            2016        2011            5\n",
      "SAT            1999        1994            5\n",
      "WiiU           2016        2012            4\n",
      "GEN            1994        1990            4\n",
      "NG             1996        1993            3\n",
      "XOne           2016        2013            3\n",
      "PS4            2016        2013            3\n",
      "WS             2001        1999            2\n",
      "3DO            1995        1994            1\n",
      "SCD            1994        1993            1\n",
      "TG16           1995        1995            0\n",
      "PCFX           1996        1996            0\n",
      "GG             1992        1992            0\n",
      "6.0\n",
      "7.612903225806452\n"
     ]
    }
   ],
   "source": [
    "# считаю количество лет жизни платформ\n",
    "years_of_exist = games.pivot_table(index='platform' , values='year_of_release', aggfunc=['max', 'min'])\n",
    "years_of_exist.columns = ['lasr_year', 'first_year']\n",
    "years_of_exist['count_years'] = years_of_exist['lasr_year'] - years_of_exist['first_year']\n",
    "print(years_of_exist.sort_values(by='count_years', ascending=False))\n",
    "print(years_of_exist['count_years'].median())\n",
    "print(years_of_exist['count_years'].mean())"
   ]
  },
  {
   "cell_type": "markdown",
   "id": "2d468349",
   "metadata": {},
   "source": [
    "Вывод:\n",
    "Медианное значение жизни одной платформы - 6 лет. Есть довольно старая платформа, которая пользуется спросом и в 2016 году. Также есть платформы, которые существуют от 0 до 2х и перестают быть актуальными для пользователей"
   ]
  },
  {
   "cell_type": "code",
   "execution_count": 27,
   "id": "493581cf",
   "metadata": {},
   "outputs": [
    {
     "data": {
      "text/plain": [
       "7.67741935483871"
      ]
     },
     "execution_count": 27,
     "metadata": {},
     "output_type": "execute_result"
    }
   ],
   "source": [
    "# код ревьюера\n",
    "games.groupby('platform')['year_of_release'].nunique().mean()"
   ]
  },
  {
   "cell_type": "markdown",
   "id": "a9d2dc8e",
   "metadata": {},
   "source": [
    "### Задание 3:\n",
    "Возьмите данные за соответствующий актуальный период. Актуальный период определите самостоятельно в результате исследования предыдущих вопросов. Основной фактор — эти данные помогут построить прогноз на 2017 год.\n",
    "\n",
    "Не учитывайте в работе данные за предыдущие годы.\n",
    "\n",
    "Какие платформы лидируют по продажам, растут или падают? Выберите несколько потенциально прибыльных платформ."
   ]
  },
  {
   "cell_type": "code",
   "execution_count": 28,
   "id": "e1cade5f",
   "metadata": {},
   "outputs": [],
   "source": [
    "games_actual = games.query('year_of_release >= 2013')"
   ]
  },
  {
   "cell_type": "markdown",
   "id": "204cc365",
   "metadata": {},
   "source": [
    "<div class=\"alert alert-block alert-info\">\n",
    "<b>🔄Комментарий студента:</b> \n",
    "Ориентируюсь на период с 2013 года тк эти данные более актуальные и позволят увидеть реальную картину - что происходит сейчас на рынке\n",
    "</div>"
   ]
  },
  {
   "cell_type": "code",
   "execution_count": 29,
   "id": "a962c028",
   "metadata": {},
   "outputs": [
    {
     "name": "stdout",
     "output_type": "stream",
     "text": [
      "AxesSubplot(0.125,0.125;0.775x0.755)\n"
     ]
    },
    {
     "data": {
      "image/png": "[encoded data removed]",
      "text/plain": [
       "<Figure size 432x288 with 1 Axes>"
      ]
     },
     "metadata": {
      "needs_background": "light"
     },
     "output_type": "display_data"
    }
   ],
   "source": [
    "print(games_actual.pivot_table(index='platform', values='total_sales', aggfunc='sum').\n",
    "      sort_values(by='total_sales', ascending=False).head(10).\n",
    "      plot(kind='bar', grid=True, title='Платформы с 2011'))\n",
    "#print(sales_platform.sort_values(by='total_sales', ascending=False))\n",
    "\n",
    "plt.xlabel('Платформа')\n",
    "plt.ylabel('Продано копий, млн')\n",
    "plt.show()"
   ]
  },
  {
   "cell_type": "markdown",
   "id": "31a045c5",
   "metadata": {},
   "source": [
    "Вывод:\n",
    "1. Самая популярная платформа в выделенный период - PS4\n",
    "2. Сравнивая с продажами за весь период видно, что теряет позици платформа Wii \n",
    "3. Интересное наблюдение, что PS2 - самая распространненая платформа за все время (вывод по общим продажам), на текущий момент не пользуется особым спросом и даже не входит в топ 10\n",
    "4. 3DS кажется сравнительно молодой платформой, но которая интересует аудиторию (на текущий момент на 4м месте по продажам)\n",
    "5. Выделяется платформа Xone. Имеет хороший потенциал"
   ]
  },
  {
   "cell_type": "markdown",
   "id": "ef96ffba",
   "metadata": {},
   "source": [
    "### Задание 4:\n",
    "Постройте график «ящик с усами» по глобальным продажам игр в разбивке по платформам. Опишите результат"
   ]
  },
  {
   "cell_type": "code",
   "execution_count": 30,
   "id": "ba3d155f",
   "metadata": {},
   "outputs": [
    {
     "data": {
      "image/png": "[encoded data removed]",
      "text/plain": [
       "<Figure size 432x288 with 1 Axes>"
      ]
     },
     "metadata": {
      "needs_background": "light"
     },
     "output_type": "display_data"
    }
   ],
   "source": [
    "games_actual.boxplot(column='total_sales', by='platform')\n",
    "plt.show()"
   ]
  },
  {
   "cell_type": "code",
   "execution_count": 31,
   "id": "203051d4",
   "metadata": {},
   "outputs": [
    {
     "data": {
      "image/png": "[encoded data removed]",
      "text/plain": [
       "<Figure size 1200x640 with 1 Axes>"
      ]
     },
     "metadata": {
      "needs_background": "light"
     },
     "output_type": "display_data"
    }
   ],
   "source": [
    "plt.figure(figsize=(15,8), dpi= 80)\n",
    "sns.boxplot(x='platform', y='total_sales', data=games_actual, notch=False)\n",
    "#plt.yscale('logit')\n",
    "plt.ylim(0, 5)\n",
    "plt.xlabel('Платформы')\n",
    "plt.ylabel('КОличество проданных копий с 2013 года, млн')\n",
    "plt.show()"
   ]
  },
  {
   "cell_type": "code",
   "execution_count": 32,
   "id": "550792bf",
   "metadata": {},
   "outputs": [
    {
     "data": {
      "text/plain": [
       "platform\n",
       "3DS     0.090\n",
       "DS      0.150\n",
       "PC      0.080\n",
       "PS3     0.150\n",
       "PS4     0.200\n",
       "PSP     0.020\n",
       "PSV     0.040\n",
       "Wii     0.180\n",
       "WiiU    0.200\n",
       "X360    0.265\n",
       "XOne    0.220\n",
       "Name: total_sales, dtype: float64"
      ]
     },
     "metadata": {},
     "output_type": "display_data"
    }
   ],
   "source": [
    "display(games_actual.groupby('platform')['total_sales'].median())"
   ]
  },
  {
   "cell_type": "code",
   "execution_count": 33,
   "id": "179bc5f0",
   "metadata": {},
   "outputs": [
    {
     "data": {
      "text/plain": [
       "platform\n",
       "3DS     0.472772\n",
       "DS      0.192500\n",
       "PC      0.208624\n",
       "PS3     0.525884\n",
       "PS4     0.801378\n",
       "PSP     0.052239\n",
       "PSV     0.092151\n",
       "Wii     0.593913\n",
       "WiiU    0.562000\n",
       "X360    0.735484\n",
       "XOne    0.645020\n",
       "Name: total_sales, dtype: float64"
      ]
     },
     "metadata": {},
     "output_type": "display_data"
    }
   ],
   "source": [
    "display(games_actual.groupby('platform')['total_sales'].mean())"
   ]
  },
  {
   "cell_type": "markdown",
   "id": "f1700c9f",
   "metadata": {},
   "source": [
    "Вывод:\n",
    "1. На всех платформах есть игры, которые приносили в разы больше медианного значения продаж копий\n",
    "2. Медианное значение для всех платформ от 80 до 265 тыс проданных копий"
   ]
  },
  {
   "cell_type": "markdown",
   "id": "8d70bf8c",
   "metadata": {},
   "source": [
    "### Задание 5:\n",
    "Посмотрите, как влияют на продажи внутри одной популярной платформы отзывы пользователей и критиков. Постройте диаграмму рассеяния и посчитайте корреляцию между отзывами и продажами. Сформулируйте выводы.\n",
    "\n",
    "Соотнесите выводы с продажами игр на других платформах."
   ]
  },
  {
   "cell_type": "code",
   "execution_count": 34,
   "id": "d1e8603b",
   "metadata": {},
   "outputs": [
    {
     "name": "stdout",
     "output_type": "stream",
     "text": [
      "Корреляция между продажами копий и отзывами пользователей для PS3 0.0023944027357566925\n"
     ]
    },
    {
     "data": {
      "image/png": "[encoded data removed]",
      "text/plain": [
       "<Figure size 432x288 with 1 Axes>"
      ]
     },
     "metadata": {
      "needs_background": "light"
     },
     "output_type": "display_data"
    },
    {
     "name": "stdout",
     "output_type": "stream",
     "text": [
      "Корреляция между продажами копий и отзывами пользователей для X360 -0.011742185147181342\n"
     ]
    },
    {
     "data": {
      "image/png": "[encoded data removed]",
      "text/plain": [
       "<Figure size 432x288 with 1 Axes>"
      ]
     },
     "metadata": {
      "needs_background": "light"
     },
     "output_type": "display_data"
    },
    {
     "name": "stdout",
     "output_type": "stream",
     "text": [
      "Корреляция между продажами копий и отзывами пользователей для PS4 -0.031957110204556376\n"
     ]
    },
    {
     "data": {
      "image/png": "[encoded data removed]",
      "text/plain": [
       "<Figure size 432x288 with 1 Axes>"
      ]
     },
     "metadata": {
      "needs_background": "light"
     },
     "output_type": "display_data"
    },
    {
     "name": "stdout",
     "output_type": "stream",
     "text": [
      "Корреляция между продажами копий и отзывами пользователей для 3DS 0.24150411773563016\n"
     ]
    },
    {
     "data": {
      "image/png": "[encoded data removed]",
      "text/plain": [
       "<Figure size 432x288 with 1 Axes>"
      ]
     },
     "metadata": {
      "needs_background": "light"
     },
     "output_type": "display_data"
    },
    {
     "name": "stdout",
     "output_type": "stream",
     "text": [
      "Корреляция между продажами копий и отзывами пользователей для XOne -0.06892505328279412\n"
     ]
    },
    {
     "data": {
      "image/png": "[encoded data removed]",
      "text/plain": [
       "<Figure size 432x288 with 1 Axes>"
      ]
     },
     "metadata": {
      "needs_background": "light"
     },
     "output_type": "display_data"
    },
    {
     "name": "stdout",
     "output_type": "stream",
     "text": [
      "Корреляция между продажами копий и отзывами пользователей для WiiU 0.4193304819266187\n"
     ]
    },
    {
     "data": {
      "image/png": "[encoded data removed]",
      "text/plain": [
       "<Figure size 432x288 with 1 Axes>"
      ]
     },
     "metadata": {
      "needs_background": "light"
     },
     "output_type": "display_data"
    },
    {
     "name": "stdout",
     "output_type": "stream",
     "text": [
      "Корреляция между продажами копий и отзывами пользователей для Wii 0.6829417215362368\n"
     ]
    },
    {
     "data": {
      "image/png": "[encoded data removed]",
      "text/plain": [
       "<Figure size 432x288 with 1 Axes>"
      ]
     },
     "metadata": {
      "needs_background": "light"
     },
     "output_type": "display_data"
    },
    {
     "name": "stdout",
     "output_type": "stream",
     "text": [
      "Корреляция между продажами копий и отзывами пользователей для PC -0.09384186952476739\n"
     ]
    },
    {
     "data": {
      "image/png": "[encoded data removed]",
      "text/plain": [
       "<Figure size 432x288 with 1 Axes>"
      ]
     },
     "metadata": {
      "needs_background": "light"
     },
     "output_type": "display_data"
    },
    {
     "name": "stdout",
     "output_type": "stream",
     "text": [
      "Корреляция между продажами копий и отзывами пользователей для PSV 0.0009424723319108626\n"
     ]
    },
    {
     "data": {
      "image/png": "[encoded data removed]",
      "text/plain": [
       "<Figure size 432x288 with 1 Axes>"
      ]
     },
     "metadata": {
      "needs_background": "light"
     },
     "output_type": "display_data"
    },
    {
     "name": "stdout",
     "output_type": "stream",
     "text": [
      "Корреляция между продажами копий и отзывами пользователей для DS nan\n"
     ]
    },
    {
     "name": "stderr",
     "output_type": "stream",
     "text": [
      "/opt/conda/lib/python3.9/site-packages/numpy/lib/function_base.py:2683: RuntimeWarning: Degrees of freedom <= 0 for slice\n",
      "  c = cov(x, y, rowvar, dtype=dtype)\n",
      "/opt/conda/lib/python3.9/site-packages/numpy/lib/function_base.py:2542: RuntimeWarning: divide by zero encountered in true_divide\n",
      "  c *= np.true_divide(1, fact)\n"
     ]
    },
    {
     "data": {
      "image/png": "[encoded data removed]",
      "text/plain": [
       "<Figure size 432x288 with 1 Axes>"
      ]
     },
     "metadata": {
      "needs_background": "light"
     },
     "output_type": "display_data"
    },
    {
     "name": "stdout",
     "output_type": "stream",
     "text": [
      "Корреляция между продажами копий и отзывами пользователей для PSP -0.9999999999999999\n"
     ]
    },
    {
     "data": {
      "image/png": "[encoded data removed]",
      "text/plain": [
       "<Figure size 432x288 with 1 Axes>"
      ]
     },
     "metadata": {
      "needs_background": "light"
     },
     "output_type": "display_data"
    }
   ],
   "source": [
    "for platforms in games_actual['platform'].unique():\n",
    "    pl = games_actual.loc[games_actual['platform'] == platforms, :]\n",
    "    print('Корреляция между продажами копий и отзывами пользователей для', platforms, pl['total_sales'].corr(pl['user_score']))\n",
    "    pl.plot(x='user_score', y='total_sales', kind='scatter', alpha=0.2,title='Зависимость продаж от оценки пользователей')\n",
    "    plt.xlabel('Оценка пользователей')\n",
    "    plt.ylabel('Продажи копий')\n",
    "    plt.show()"
   ]
  },
  {
   "cell_type": "code",
   "execution_count": 54,
   "id": "a924492a",
   "metadata": {},
   "outputs": [
    {
     "name": "stdout",
     "output_type": "stream",
     "text": [
      "Корреляция между продажами копий и отзывами критиков для PS3 0.0023944027357566925\n"
     ]
    },
    {
     "data": {
      "image/png": "[encoded data removed]",
      "text/plain": [
       "<Figure size 432x288 with 1 Axes>"
      ]
     },
     "metadata": {
      "needs_background": "light"
     },
     "output_type": "display_data"
    },
    {
     "name": "stdout",
     "output_type": "stream",
     "text": [
      "\n",
      "Корреляция между продажами копий и отзывами критиков для X360 -0.011742185147181342\n"
     ]
    },
    {
     "data": {
      "image/png": "[encoded data removed]",
      "text/plain": [
       "<Figure size 432x288 with 1 Axes>"
      ]
     },
     "metadata": {
      "needs_background": "light"
     },
     "output_type": "display_data"
    },
    {
     "name": "stdout",
     "output_type": "stream",
     "text": [
      "\n",
      "Корреляция между продажами копий и отзывами критиков для PS4 -0.031957110204556376\n"
     ]
    },
    {
     "data": {
      "image/png": "[encoded data removed]",
      "text/plain": [
       "<Figure size 432x288 with 1 Axes>"
      ]
     },
     "metadata": {
      "needs_background": "light"
     },
     "output_type": "display_data"
    },
    {
     "name": "stdout",
     "output_type": "stream",
     "text": [
      "\n",
      "Корреляция между продажами копий и отзывами критиков для 3DS 0.24150411773563016\n"
     ]
    },
    {
     "data": {
      "image/png": "[encoded data removed]",
      "text/plain": [
       "<Figure size 432x288 with 1 Axes>"
      ]
     },
     "metadata": {
      "needs_background": "light"
     },
     "output_type": "display_data"
    },
    {
     "name": "stdout",
     "output_type": "stream",
     "text": [
      "\n",
      "Корреляция между продажами копий и отзывами критиков для XOne -0.06892505328279412\n"
     ]
    },
    {
     "data": {
      "image/png": "[encoded data removed]",
      "text/plain": [
       "<Figure size 432x288 with 1 Axes>"
      ]
     },
     "metadata": {
      "needs_background": "light"
     },
     "output_type": "display_data"
    },
    {
     "name": "stdout",
     "output_type": "stream",
     "text": [
      "\n",
      "Корреляция между продажами копий и отзывами критиков для WiiU 0.4193304819266187\n"
     ]
    },
    {
     "data": {
      "image/png": "[encoded data removed]",
      "text/plain": [
       "<Figure size 432x288 with 1 Axes>"
      ]
     },
     "metadata": {
      "needs_background": "light"
     },
     "output_type": "display_data"
    },
    {
     "name": "stdout",
     "output_type": "stream",
     "text": [
      "\n",
      "Корреляция между продажами копий и отзывами критиков для Wii 0.6829417215362368\n"
     ]
    },
    {
     "data": {
      "image/png": "[encoded data removed]",
      "text/plain": [
       "<Figure size 432x288 with 1 Axes>"
      ]
     },
     "metadata": {
      "needs_background": "light"
     },
     "output_type": "display_data"
    },
    {
     "name": "stdout",
     "output_type": "stream",
     "text": [
      "\n",
      "Корреляция между продажами копий и отзывами критиков для PC -0.09384186952476739\n"
     ]
    },
    {
     "data": {
      "image/png": "[encoded data removed]",
      "text/plain": [
       "<Figure size 432x288 with 1 Axes>"
      ]
     },
     "metadata": {
      "needs_background": "light"
     },
     "output_type": "display_data"
    },
    {
     "name": "stdout",
     "output_type": "stream",
     "text": [
      "\n",
      "Корреляция между продажами копий и отзывами критиков для PSV 0.0009424723319108626\n"
     ]
    },
    {
     "data": {
      "image/png": "[encoded data removed]",
      "text/plain": [
       "<Figure size 432x288 with 1 Axes>"
      ]
     },
     "metadata": {
      "needs_background": "light"
     },
     "output_type": "display_data"
    },
    {
     "name": "stdout",
     "output_type": "stream",
     "text": [
      "\n",
      "Корреляция между продажами копий и отзывами критиков для DS nan\n"
     ]
    },
    {
     "name": "stderr",
     "output_type": "stream",
     "text": [
      "/opt/conda/lib/python3.9/site-packages/numpy/lib/function_base.py:2683: RuntimeWarning: Degrees of freedom <= 0 for slice\n",
      "  c = cov(x, y, rowvar, dtype=dtype)\n",
      "/opt/conda/lib/python3.9/site-packages/numpy/lib/function_base.py:2542: RuntimeWarning: divide by zero encountered in true_divide\n",
      "  c *= np.true_divide(1, fact)\n"
     ]
    },
    {
     "data": {
      "image/png": "[encoded data removed]",
      "text/plain": [
       "<Figure size 432x288 with 1 Axes>"
      ]
     },
     "metadata": {
      "needs_background": "light"
     },
     "output_type": "display_data"
    },
    {
     "name": "stdout",
     "output_type": "stream",
     "text": [
      "\n",
      "Корреляция между продажами копий и отзывами критиков для PSP -0.9999999999999999\n"
     ]
    },
    {
     "data": {
      "image/png": "[encoded data removed]",
      "text/plain": [
       "<Figure size 432x288 with 1 Axes>"
      ]
     },
     "metadata": {
      "needs_background": "light"
     },
     "output_type": "display_data"
    },
    {
     "name": "stdout",
     "output_type": "stream",
     "text": [
      "\n"
     ]
    }
   ],
   "source": [
    "for platforms in games_actual['platform'].unique():\n",
    "    pl = games_actual.loc[games_actual['platform'] == platforms, :]\n",
    "    print('Корреляция между продажами копий и отзывами критиков для', platforms, pl['total_sales'].corr(pl['user_score']))\n",
    "    pl.plot(x='critic_score', y='total_sales', kind='scatter', alpha=1,title='Зависимость продаж от оценки пользователей')\n",
    "    plt.xlabel('Оценка критиков')\n",
    "    plt.ylabel('Продажи копий')\n",
    "    plt.show()\n",
    "    print()"
   ]
  },
  {
   "cell_type": "code",
   "execution_count": 36,
   "id": "18c9ef5e",
   "metadata": {},
   "outputs": [
    {
     "name": "stdout",
     "output_type": "stream",
     "text": [
      "PS3\n",
      "count    345.000000\n",
      "mean       0.525884\n",
      "std        1.451939\n",
      "min        0.010000\n",
      "25%        0.040000\n",
      "50%        0.150000\n",
      "75%        0.510000\n",
      "max       21.050000\n",
      "Name: total_sales, dtype: float64\n",
      "\n",
      "X360\n",
      "count    186.000000\n",
      "mean       0.735484\n",
      "std        1.663275\n",
      "min        0.010000\n",
      "25%        0.080000\n",
      "50%        0.265000\n",
      "75%        0.795000\n",
      "max       16.270000\n",
      "Name: total_sales, dtype: float64\n",
      "\n",
      "PS4\n",
      "count    392.000000\n",
      "mean       0.801378\n",
      "std        1.609456\n",
      "min        0.010000\n",
      "25%        0.060000\n",
      "50%        0.200000\n",
      "75%        0.730000\n",
      "max       14.630000\n",
      "Name: total_sales, dtype: float64\n",
      "\n",
      "3DS\n",
      "count    303.000000\n",
      "mean       0.472772\n",
      "std        1.381347\n",
      "min        0.010000\n",
      "25%        0.040000\n",
      "50%        0.090000\n",
      "75%        0.280000\n",
      "max       14.600000\n",
      "Name: total_sales, dtype: float64\n",
      "\n",
      "XOne\n",
      "count    247.000000\n",
      "mean       0.645020\n",
      "std        1.036139\n",
      "min        0.010000\n",
      "25%        0.060000\n",
      "50%        0.220000\n",
      "75%        0.685000\n",
      "max        7.390000\n",
      "Name: total_sales, dtype: float64\n",
      "\n",
      "WiiU\n",
      "count    115.000000\n",
      "mean       0.562000\n",
      "std        1.038778\n",
      "min        0.010000\n",
      "25%        0.060000\n",
      "50%        0.200000\n",
      "75%        0.595000\n",
      "max        7.090000\n",
      "Name: total_sales, dtype: float64\n",
      "\n",
      "Wii\n",
      "count    23.000000\n",
      "mean      0.593913\n",
      "std       0.915432\n",
      "min       0.010000\n",
      "25%       0.045000\n",
      "50%       0.180000\n",
      "75%       0.755000\n",
      "max       3.580000\n",
      "Name: total_sales, dtype: float64\n",
      "\n",
      "PC\n",
      "count    189.000000\n",
      "mean       0.208624\n",
      "std        0.352304\n",
      "min        0.010000\n",
      "25%        0.030000\n",
      "50%        0.080000\n",
      "75%        0.230000\n",
      "max        3.050000\n",
      "Name: total_sales, dtype: float64\n",
      "\n",
      "PSV\n",
      "count    358.000000\n",
      "mean       0.092151\n",
      "std        0.153816\n",
      "min        0.010000\n",
      "25%        0.020000\n",
      "50%        0.040000\n",
      "75%        0.110000\n",
      "max        1.960000\n",
      "Name: total_sales, dtype: float64\n",
      "\n",
      "DS\n",
      "count    8.000000\n",
      "mean     0.192500\n",
      "std      0.172026\n",
      "min      0.030000\n",
      "25%      0.067500\n",
      "50%      0.150000\n",
      "75%      0.252500\n",
      "max      0.510000\n",
      "Name: total_sales, dtype: float64\n",
      "\n",
      "PSP\n",
      "count    67.000000\n",
      "mean      0.052239\n",
      "std       0.059768\n",
      "min       0.010000\n",
      "25%       0.015000\n",
      "50%       0.020000\n",
      "75%       0.070000\n",
      "max       0.240000\n",
      "Name: total_sales, dtype: float64\n",
      "\n"
     ]
    }
   ],
   "source": [
    "for platforms in games_actual['platform'].unique():\n",
    "    print(platforms)\n",
    "    print(games_actual.loc[games_actual['platform'] == platforms, 'total_sales'].describe())\n",
    "    print('')"
   ]
  },
  {
   "cell_type": "markdown",
   "id": "06895ae7",
   "metadata": {},
   "source": [
    "Обший вывод:\n",
    "1. Есть небольшая связь между оценкой критиков и продажами. Чем выше оценка, тем больше продаж (но помним, что эта корреляция не равна 1)\n",
    "2. Оценка пользователей не сильно влиет на продажи. Но можем выдвинуть гипотезу, что иногда к более популярным играм пользователи более требовательны (больше ожиданий)"
   ]
  },
  {
   "cell_type": "markdown",
   "id": "f4c82c93",
   "metadata": {},
   "source": [
    "### Задание 6:\n",
    "Посмотрите на общее распределение игр по жанрам. Что можно сказать о самых прибыльных жанрах? Выделяются ли жанры с высокими и низкими продажами?"
   ]
  },
  {
   "cell_type": "code",
   "execution_count": 37,
   "id": "ccb9affa",
   "metadata": {},
   "outputs": [
    {
     "data": {
      "text/plain": [
       "<AxesSubplot:title={'center':'Суммарные продажи копий с разбивкой по жанрам'}, xlabel='genre'>"
      ]
     },
     "metadata": {},
     "output_type": "display_data"
    },
    {
     "data": {
      "image/png": "[encoded data removed]",
      "text/plain": [
       "<Figure size 432x288 with 1 Axes>"
      ]
     },
     "metadata": {
      "needs_background": "light"
     },
     "output_type": "display_data"
    }
   ],
   "source": [
    "genres = games_actual.groupby('genre')['total_sales'].sum().sort_values()\n",
    "display(genres.plot(kind='bar', title='Суммарные продажи копий с разбивкой по жанрам'))\n",
    "plt.xlabel('Жанры игр')\n",
    "plt.show()\n",
    "#print(games_actual['genre'].unique())\n",
    "#print(games_actual.pivot_table(index='genre', values='total_sales', aggfunc='sum'))\n"
   ]
  },
  {
   "cell_type": "code",
   "execution_count": 38,
   "id": "1cbcadc4",
   "metadata": {},
   "outputs": [
    {
     "name": "stdout",
     "output_type": "stream",
     "text": [
      "genre\n",
      "Adventure       0.030\n",
      "Puzzle          0.060\n",
      "Strategy        0.080\n",
      "Misc            0.100\n",
      "Simulation      0.100\n",
      "Action          0.110\n",
      "Racing          0.120\n",
      "Fighting        0.125\n",
      "Role-Playing    0.125\n",
      "Platform        0.225\n",
      "Sports          0.240\n",
      "Shooter         0.450\n",
      "Name: total_sales, dtype: float64\n"
     ]
    }
   ],
   "source": [
    "genres = games_actual.groupby('genre')['total_sales'].median().sort_values()\n",
    "print(genres)"
   ]
  },
  {
   "cell_type": "markdown",
   "id": "e19c907a",
   "metadata": {},
   "source": [
    "Вывод (по медиане):\n",
    "1. Самые популярные направления - Shooter, Sports,Platform\n",
    "2. Самые непопулярные направления - Adventure, Puzzle, Strategy"
   ]
  },
  {
   "cell_type": "markdown",
   "id": "b68d26d4",
   "metadata": {},
   "source": [
    "## Шаг 4. Составьте портрет пользователя каждого региона  <a class=\"anchor\" id=\"fourth-bullet\"></a>"
   ]
  },
  {
   "cell_type": "markdown",
   "id": "c83eeb96",
   "metadata": {},
   "source": [
    "### Задание 1:\n",
    "Определите для пользователя каждого региона (NA, EU, JP):\n",
    "1. Самые популярные платформы (топ-5). Опишите различия в долях продаж.\n",
    "2. Самые популярные жанры (топ-5). Поясните разницу.\n",
    "3. Влияет ли рейтинг ESRB на продажи в отдельном регионе?"
   ]
  },
  {
   "cell_type": "code",
   "execution_count": 39,
   "id": "82179d76",
   "metadata": {},
   "outputs": [
    {
     "name": "stdout",
     "output_type": "stream",
     "text": [
      "AxesSubplot(0.125,0.125;0.775x0.755)\n"
     ]
    },
    {
     "name": "stderr",
     "output_type": "stream",
     "text": [
      "/tmp/ipykernel_209/2818109547.py:1: FutureWarning: Indexing with multiple keys (implicitly converted to a tuple of keys) will be deprecated, use a list instead.\n",
      "  print(games_actual.groupby('platform')['na_sales','eu_sales', 'jp_sales'].\n"
     ]
    },
    {
     "data": {
      "image/png": "[encoded data removed]",
      "text/plain": [
       "<Figure size 720x360 with 1 Axes>"
      ]
     },
     "metadata": {
      "needs_background": "light"
     },
     "output_type": "display_data"
    }
   ],
   "source": [
    "print(games_actual.groupby('platform')['na_sales','eu_sales', 'jp_sales'].\n",
    "     sum().plot(kind='bar',figsize=(10,5), legend=False,\n",
    "           title='Продажи копий по регионам с разбивкой по платформам'))\n",
    "plt.xlabel('Платформа')\n",
    "plt.show()\n",
    "\n",
    "#print(games_actual.groupby('platform')['na_sales','eu_sales', 'jp_sales'].sum())"
   ]
  },
  {
   "cell_type": "code",
   "execution_count": 40,
   "id": "d486c530",
   "metadata": {},
   "outputs": [
    {
     "name": "stdout",
     "output_type": "stream",
     "text": [
      "Северная Америка ('na_sales', <AxesSubplot:title={'center':'Продажи копий с разбивкой по платформам'}, xlabel='platform'>)\n"
     ]
    },
    {
     "data": {
      "image/png": "[encoded data removed]",
      "text/plain": [
       "<Figure size 720x360 with 1 Axes>"
      ]
     },
     "metadata": {
      "needs_background": "light"
     },
     "output_type": "display_data"
    }
   ],
   "source": [
    "def regions(data):\n",
    "    return data, games_actual.groupby('platform')[data].sum().sort_values().tail(5).plot(kind='bar',figsize=(10,5), legend=False, title='Продажи копий с разбивкой по платформам')\n",
    "\n",
    "    \n",
    "print( \"Северная Америка\", regions('na_sales'))"
   ]
  },
  {
   "cell_type": "code",
   "execution_count": 41,
   "id": "329558c3",
   "metadata": {},
   "outputs": [
    {
     "name": "stdout",
     "output_type": "stream",
     "text": [
      "Европа ('eu_sales', <AxesSubplot:title={'center':'Продажи копий с разбивкой по платформам'}, xlabel='platform'>)\n"
     ]
    },
    {
     "data": {
      "image/png": "[encoded data removed]",
      "text/plain": [
       "<Figure size 720x360 with 1 Axes>"
      ]
     },
     "metadata": {
      "needs_background": "light"
     },
     "output_type": "display_data"
    }
   ],
   "source": [
    "print( \"Европа\",regions('eu_sales'))"
   ]
  },
  {
   "cell_type": "code",
   "execution_count": 42,
   "id": "681f8891",
   "metadata": {},
   "outputs": [
    {
     "name": "stdout",
     "output_type": "stream",
     "text": [
      "Япония ('jp_sales', <AxesSubplot:title={'center':'Продажи копий с разбивкой по платформам'}, xlabel='platform'>)\n"
     ]
    },
    {
     "data": {
      "image/png": "[encoded data removed]",
      "text/plain": [
       "<Figure size 720x360 with 1 Axes>"
      ]
     },
     "metadata": {
      "needs_background": "light"
     },
     "output_type": "display_data"
    }
   ],
   "source": [
    "print( \"Япония\", regions('jp_sales'))"
   ]
  },
  {
   "cell_type": "markdown",
   "id": "e85868a8",
   "metadata": {},
   "source": [
    "Вывод:\n",
    "1. Наиболее востребованная платформа-  PS4. \n",
    "2. Больше всего играют в Северной Америке и Европе\n",
    "3. В Северной Америке предпочитают использовать в основном PS4. Далее по популярности идет Xone\n",
    "4. В Европе предпочитают использовать в основном PS4. Далее по популярности идет PS3\n",
    "5. В Японии играют на 3DS, PS3, PSV"
   ]
  },
  {
   "cell_type": "code",
   "execution_count": 43,
   "id": "d0bf9e41",
   "metadata": {},
   "outputs": [
    {
     "name": "stdout",
     "output_type": "stream",
     "text": [
      "AxesSubplot(0.125,0.125;0.775x0.755)\n",
      "              na_sales  eu_sales  jp_sales\n",
      "genre                                     \n",
      "Action          126.05    118.13     40.49\n",
      "Adventure         7.14      8.25      5.82\n",
      "Fighting         15.55      8.55      7.65\n",
      "Misc             27.49     20.04      9.20\n",
      "Platform         18.14     15.58      4.79\n",
      "Puzzle            0.83      1.00      1.18\n",
      "Racing           12.96     20.19      2.30\n",
      "Role-Playing     46.40     36.97     51.04\n",
      "Shooter         109.74     87.86      6.61\n",
      "Simulation        4.86     10.92      4.52\n",
      "Sports           65.27     60.52      5.41\n",
      "Strategy          3.28      4.22      1.77\n"
     ]
    },
    {
     "name": "stderr",
     "output_type": "stream",
     "text": [
      "/tmp/ipykernel_209/4005939706.py:1: FutureWarning: Indexing with multiple keys (implicitly converted to a tuple of keys) will be deprecated, use a list instead.\n",
      "  print(games_actual.groupby('genre')['na_sales','eu_sales', 'jp_sales']\n",
      "/tmp/ipykernel_209/4005939706.py:6: FutureWarning: Indexing with multiple keys (implicitly converted to a tuple of keys) will be deprecated, use a list instead.\n",
      "  print(games_actual.groupby('genre')['na_sales','eu_sales', 'jp_sales'].sum())\n"
     ]
    },
    {
     "data": {
      "image/png": "[encoded data removed]",
      "text/plain": [
       "<Figure size 720x360 with 1 Axes>"
      ]
     },
     "metadata": {
      "needs_background": "light"
     },
     "output_type": "display_data"
    }
   ],
   "source": [
    "print(games_actual.groupby('genre')['na_sales','eu_sales', 'jp_sales']\n",
    "      .sum().plot(kind='bar',figsize=(10,5), legend=True,\n",
    "                  title='Продажи копий в разных регионах с разбивкой по жанрам'))\n",
    "plt.xlabel('Жанр')\n",
    "\n",
    "print(games_actual.groupby('genre')['na_sales','eu_sales', 'jp_sales'].sum())"
   ]
  },
  {
   "cell_type": "code",
   "execution_count": 44,
   "id": "08548b9a",
   "metadata": {},
   "outputs": [
    {
     "name": "stdout",
     "output_type": "stream",
     "text": [
      "Северная Европа\n",
      "AxesSubplot(0.125,0.125;0.775x0.755)\n"
     ]
    },
    {
     "data": {
      "image/png": "[encoded data removed]",
      "text/plain": [
       "<Figure size 720x360 with 1 Axes>"
      ]
     },
     "metadata": {
      "needs_background": "light"
     },
     "output_type": "display_data"
    }
   ],
   "source": [
    "def genres(data):\n",
    "    return games_actual.groupby('genre')[data].sum().sort_values().tail(5).plot(kind='bar',figsize=(10,5), legend=False,\n",
    "                  title='Продажи копий с разбивкой по жанрам')\n",
    "\n",
    "print('Северная Европа')\n",
    "print(genres('na_sales'))"
   ]
  },
  {
   "cell_type": "code",
   "execution_count": 45,
   "id": "9475b63e",
   "metadata": {},
   "outputs": [
    {
     "name": "stdout",
     "output_type": "stream",
     "text": [
      "Европа\n",
      "AxesSubplot(0.125,0.125;0.775x0.755)\n"
     ]
    },
    {
     "data": {
      "image/png": "[encoded data removed]",
      "text/plain": [
       "<Figure size 720x360 with 1 Axes>"
      ]
     },
     "metadata": {
      "needs_background": "light"
     },
     "output_type": "display_data"
    }
   ],
   "source": [
    "print('Европа')\n",
    "print(genres('eu_sales'))"
   ]
  },
  {
   "cell_type": "code",
   "execution_count": 46,
   "id": "ded6dc65",
   "metadata": {},
   "outputs": [
    {
     "name": "stdout",
     "output_type": "stream",
     "text": [
      "Япония\n",
      "AxesSubplot(0.125,0.125;0.775x0.755)\n"
     ]
    },
    {
     "data": {
      "image/png": "[encoded data removed]",
      "text/plain": [
       "<Figure size 720x360 with 1 Axes>"
      ]
     },
     "metadata": {
      "needs_background": "light"
     },
     "output_type": "display_data"
    }
   ],
   "source": [
    "print('Япония')\n",
    "print(genres('jp_sales'))"
   ]
  },
  {
   "cell_type": "markdown",
   "id": "dd15ad8f",
   "metadata": {},
   "source": [
    "Вывод:\n",
    "1. В Северной Америке и Европе самые популяные жанры Action, Shooter, Sports. \n",
    "2. В Японии - Role-Playing, Action, Misc. \n",
    "\n",
    "Расчет по суммарным продажам копий"
   ]
  },
  {
   "cell_type": "code",
   "execution_count": 47,
   "id": "826153f9",
   "metadata": {},
   "outputs": [
    {
     "name": "stderr",
     "output_type": "stream",
     "text": [
      "/opt/conda/lib/python3.9/site-packages/pandas/core/indexing.py:1676: SettingWithCopyWarning: \n",
      "A value is trying to be set on a copy of a slice from a DataFrame.\n",
      "Try using .loc[row_indexer,col_indexer] = value instead\n",
      "\n",
      "See the caveats in the documentation: https://pandas.pydata.org/pandas-docs/stable/user_guide/indexing.html#returning-a-view-versus-a-copy\n",
      "  self._setitem_single_column(ilocs[0], value, pi)\n"
     ]
    }
   ],
   "source": [
    "#games_actual['rating'] = games_actual['rating'].fillna('other')\n",
    "games_actual.loc[games_actual['rating'].isna(),'rating'] = games_actual['rating'].fillna('Other') "
   ]
  },
  {
   "cell_type": "code",
   "execution_count": 48,
   "id": "aa7055d1",
   "metadata": {},
   "outputs": [
    {
     "name": "stdout",
     "output_type": "stream",
     "text": [
      "AxesSubplot(0.125,0.125;0.775x0.755)\n",
      "        na_sales  eu_sales  jp_sales\n",
      "rating                              \n",
      "E          79.05     83.36     15.14\n",
      "E10+       54.24     42.69      5.89\n",
      "M         165.21    145.32     14.11\n",
      "Other      89.42     78.91     85.05\n",
      "T          49.79     41.95     20.59\n"
     ]
    },
    {
     "name": "stderr",
     "output_type": "stream",
     "text": [
      "/tmp/ipykernel_209/1709410299.py:1: FutureWarning: Indexing with multiple keys (implicitly converted to a tuple of keys) will be deprecated, use a list instead.\n",
      "  print(games_actual.groupby('rating')['na_sales','eu_sales', 'jp_sales'].\n",
      "/tmp/ipykernel_209/1709410299.py:6: FutureWarning: Indexing with multiple keys (implicitly converted to a tuple of keys) will be deprecated, use a list instead.\n",
      "  print(games_actual.groupby('rating')['na_sales','eu_sales', 'jp_sales'].sum())\n"
     ]
    },
    {
     "data": {
      "image/png": "[encoded data removed]",
      "text/plain": [
       "<Figure size 720x360 with 1 Axes>"
      ]
     },
     "metadata": {
      "needs_background": "light"
     },
     "output_type": "display_data"
    }
   ],
   "source": [
    "print(games_actual.groupby('rating')['na_sales','eu_sales', 'jp_sales'].\n",
    "      sum().plot(kind='bar',figsize=(10,5), legend=True,\n",
    "                 title='Продажи копий в разных регионах с разбивкой по рейтингу ESRB'))\n",
    "plt.xlabel('Рейтинг ESRB')\n",
    "\n",
    "print(games_actual.groupby('rating')['na_sales','eu_sales', 'jp_sales'].sum())"
   ]
  },
  {
   "cell_type": "code",
   "execution_count": 49,
   "id": "a71f49ab",
   "metadata": {},
   "outputs": [
    {
     "name": "stdout",
     "output_type": "stream",
     "text": [
      "Северная Европа\n",
      "AxesSubplot(0.125,0.125;0.775x0.755)\n"
     ]
    },
    {
     "data": {
      "image/png": "[encoded data removed]",
      "text/plain": [
       "<Figure size 720x360 with 1 Axes>"
      ]
     },
     "metadata": {
      "needs_background": "light"
     },
     "output_type": "display_data"
    }
   ],
   "source": [
    "def rating(data):\n",
    "    return games_actual.groupby('rating')[data].sum().sort_values().plot(kind='bar',figsize=(10,5), legend=False,\n",
    "                  title=f'Продажи копий с разбивкой по рейтингу ESRB. Столбец {data}')\n",
    "\n",
    "print('Северная Европа')\n",
    "print(rating('na_sales'))"
   ]
  },
  {
   "cell_type": "code",
   "execution_count": 50,
   "id": "b94d719a",
   "metadata": {},
   "outputs": [
    {
     "name": "stdout",
     "output_type": "stream",
     "text": [
      "Европа\n",
      "AxesSubplot(0.125,0.125;0.775x0.755)\n"
     ]
    },
    {
     "data": {
      "image/png": "[encoded data removed]",
      "text/plain": [
       "<Figure size 720x360 with 1 Axes>"
      ]
     },
     "metadata": {
      "needs_background": "light"
     },
     "output_type": "display_data"
    }
   ],
   "source": [
    "print('Европа')\n",
    "print(rating('eu_sales'))"
   ]
  },
  {
   "cell_type": "code",
   "execution_count": 51,
   "id": "e009c87a",
   "metadata": {},
   "outputs": [
    {
     "name": "stdout",
     "output_type": "stream",
     "text": [
      "Япония\n",
      "AxesSubplot(0.125,0.125;0.775x0.755)\n"
     ]
    },
    {
     "data": {
      "image/png": "[encoded data removed]",
      "text/plain": [
       "<Figure size 720x360 with 1 Axes>"
      ]
     },
     "metadata": {
      "needs_background": "light"
     },
     "output_type": "display_data"
    }
   ],
   "source": [
    "print('Япония')\n",
    "print(rating('jp_sales'))"
   ]
  },
  {
   "cell_type": "markdown",
   "id": "2c9fbae7",
   "metadata": {},
   "source": [
    "Вывод:\n",
    "1. В Северной Америке и Европе больше всего продается игр в рейтингом M\n",
    "2. В Японии на первом месте пропуски. Далее - рейтинг Т\n",
    "    \n",
    "Подробности про рейтинг:     \n",
    "М - лица старше 17 лет     \n",
    "Е - для все возрастов      \n",
    "Т - лица старше 13 лет     \n",
    "Е10+ - лица старше 10 лет    "
   ]
  },
  {
   "cell_type": "markdown",
   "id": "544edd87",
   "metadata": {},
   "source": [
    "## Шаг 5. Проверьте гипотезы  <a class=\"anchor\" id=\"fifth-bullet\"></a>"
   ]
  },
  {
   "cell_type": "markdown",
   "id": "cf8bd10a",
   "metadata": {},
   "source": [
    "### Задание 1:\n",
    "\n",
    "Гипотеза - Средние пользовательские рейтинги платформ Xbox One и PC одинаковые\n",
    "\n",
    "Поясните:    \n",
    "Как вы сформулировали нулевую и альтернативную гипотезы    \n",
    "Какой критерий применили для проверки гипотез и почему."
   ]
  },
  {
   "cell_type": "markdown",
   "id": "dc5b5c30",
   "metadata": {},
   "source": [
    "Нулевая гипотеза - Средние пользовательские рейтинги платформ Xbox One и PC одинаковые (=)        \n",
    "Альтернативная гипотеза - Средние пользовательские рейтинги платформ Xbox One и PC разные (!=)"
   ]
  },
  {
   "cell_type": "code",
   "execution_count": 52,
   "id": "af15fa5a",
   "metadata": {},
   "outputs": [
    {
     "name": "stdout",
     "output_type": "stream",
     "text": [
      "p-значение: 0.14012658403611647\n",
      "Не получилось отвергнуть нулевую гипотезу\n"
     ]
    }
   ],
   "source": [
    "alpha = 0.05\n",
    "pc = games_actual.query('platform == \"PC\"')\n",
    "\n",
    "xone = games_actual.query('platform == \"XOne\"')\n",
    "\n",
    "pc = pc['user_score']  #удаляю пропуски тк иначе в итоге выполнения функции ttest_ind получаю nan\n",
    "pc = pc.dropna()\n",
    "\n",
    "xone = xone['user_score']\n",
    "xone = xone.dropna()\n",
    "\n",
    "\n",
    "results = st.ttest_ind(pc,xone, equal_var=True)\n",
    "\n",
    "print('p-значение:', results.pvalue)\n",
    "\n",
    "if results.pvalue < alpha:\n",
    "    print('Отвергаем нулевую гипотезу')\n",
    "else:\n",
    "    print('Не получилось отвергнуть нулевую гипотезу')"
   ]
  },
  {
   "cell_type": "markdown",
   "id": "fd75eb93",
   "metadata": {},
   "source": [
    "Вывод:\n",
    "1. Значение p-value показывает: пользовательские рейтинги платформ Xbox One и PC не имеют значимых различий. \n",
    "\n",
    "По расчетам:\n",
    "1. Беру уровень статистической значимости в 5%\n",
    "2. Использую метод ttest_ind, тк нужно сравнить 2 средних выборок\n",
    "3. Параметр equal_var использую тк размеры выборок должны быть разными "
   ]
  },
  {
   "cell_type": "markdown",
   "id": "52490e82",
   "metadata": {},
   "source": [
    "### Задание 2:\n",
    "\n",
    "Гипотеза - Средние пользовательские рейтинги жанров Action (англ. «действие», экшен-игры) и Sports (англ. «спортивные соревнования») разные.\n",
    "\n",
    "Поясните:    \n",
    "Как вы сформулировали нулевую и альтернативную гипотезы    \n",
    "Какой критерий применили для проверки гипотез и почему."
   ]
  },
  {
   "cell_type": "markdown",
   "id": "dbf541bf",
   "metadata": {},
   "source": [
    "Нулевая гипотеза - Средние пользовательские рейтинги жанров Action (англ. «действие», экшен-игры) и Sports (англ. «спортивные соревнования») равны (=)     \n",
    "Альтернативная гипотеза - Средние пользовательские рейтинги жанров Action (англ. «действие», экшен-игры) и Sports (англ. «спортивные соревнования») разные (!=)"
   ]
  },
  {
   "cell_type": "code",
   "execution_count": 53,
   "id": "cd9ec415",
   "metadata": {},
   "outputs": [
    {
     "name": "stdout",
     "output_type": "stream",
     "text": [
      "p-значение: 1.4460039700704315e-20\n",
      "Отвергаем нулевую гипотезу\n"
     ]
    }
   ],
   "source": [
    "action = games_actual.query('genre == \"Action\"')\n",
    "action = action['user_score']\n",
    "action = action.dropna() #удаляю пропуски тк иначе в итоге выполнения функции ttest_ind получаю nan\n",
    "\n",
    "sports = games_actual.query('genre == \"Sports\"')\n",
    "sports = sports['user_score']\n",
    "sports = sports.dropna()\n",
    "\n",
    "alpha = 0.05\n",
    "\n",
    "genre_results = st.ttest_ind(action, sports, equal_var=False)\n",
    "print('p-значение:', genre_results.pvalue)\n",
    "\n",
    "if genre_results.pvalue < alpha:\n",
    "    print('Отвергаем нулевую гипотезу')\n",
    "else:\n",
    "    print('Не получилось отвергнуть нулевую гипотезу')"
   ]
  },
  {
   "cell_type": "markdown",
   "id": "1b89030d",
   "metadata": {},
   "source": [
    "Гипотезу - Средние пользовательские рейтинги жанров Action (англ. «действие», экшен-игры) и Sports (англ. «спортивные соревнования») разные - получилось отвергнуть. Общими словами - рейтинги имеют значимые различия\n",
    "\n",
    "Расчеты аналогичны предыдущим"
   ]
  },
  {
   "cell_type": "markdown",
   "id": "24b926fc",
   "metadata": {},
   "source": [
    "## Шаг 6. Напишите общий вывод   <a class=\"anchor\" id=\"sixth-bullet\"></a>"
   ]
  },
  {
   "cell_type": "markdown",
   "id": "959cb353",
   "metadata": {},
   "source": [
    "***Общие выводы по всему исследованию:*** \n",
    "1. С 1993 года виден устойчивый рост интереса к игровой индустрии. Пик по выпуску игр пришелся на 2008 год. \n",
    "2. В 2016 году продажи игр снизились в 2 раза (по сравнению с 2015г), хотя объемы появления новых игр снизились незначительно\n",
    "3. Мединное значение жизни одной платформы - 6 лет. Также есть и выбросы, например PC, живет уже 31 год (на момент 2016 года)\n",
    "4. Самая популярная платформа в период с 2013 до 2016 год - PS4\n",
    "5. Медианное значение продаж одной игры на платформах от 80 до 265 тысяч проданных копий\n",
    "6. Нельзя однозначно сказать, что чем выше оценки пользователей повышают продажи\n",
    "7. Оценки критиков немного повышают продажи копий (но корреляция меньше 1)\n",
    "8. Самые популярные жанры по всем платформам с 2013 по 2016гг - Shooter, Sports, Plaform. Непопулярные - Adventure, Puzzle, Strategy\n",
    "9. В период в 2013 по 2016гг наиболее востребованы игры в Северной Америке и Европе. При этом в Серевной Америке в основном используют PS4, Xone. А в Европе - PS4, PS3\n",
    "10. В Японии в период с 2013 по 2016гг наиболее часто покупали игра для следующий платформ: 3DS, PS3, PSV\n",
    "11. Включая выбросы самые популярные жанры в Северной Америке и Европе Action, Shooter, Sports. В Японии - Role-Playing, Action, Misc\n",
    "12. В Северной мерике и Европе больше всего продаются игры с рейтингом М. В Японии с рейтингом Т\n",
    "13. Пользовательские рейтинги платформ Xbox One и PC не имеют значимых различий\n",
    "14. Средние пользовательские рейтинги жанров Action (англ. «действие», экшен-игры) и Sports (англ. «спортивные соревнования») имеют значимые различия\n",
    "\n",
    "\n",
    "***Рекомендации по выпуску игр на 2017 год:***\n",
    "1. Использовать PS4 или Xone\n",
    "2. Жанр игры - Action, Shooter, Sports\n",
    "3. Ориентация на рынки: Европа и Северная Америка\n",
    "\n",
    "***Риски:***\n",
    "1. Необходимо обратить внимание на спад в продажах в 2016 году и изучить возможные причины такого поведения пользователей\n",
    "2. Выходить на рынок Японии тк он несколько отличается от остальных\n",
    "3. Выпускать игра непопулярных направлений (например, Puzzle)"
   ]
  }
 ],
 "metadata": {
  "ExecuteTimeLog": [
   {
    "duration": 1401,
    "start_time": "2023-04-20T15:43:09.875Z"
   },
   {
    "duration": 0,
    "start_time": "2023-04-20T15:43:11.279Z"
   },
   {
    "duration": 0,
    "start_time": "2023-04-20T15:43:11.281Z"
   },
   {
    "duration": 0,
    "start_time": "2023-04-20T15:43:11.281Z"
   },
   {
    "duration": 0,
    "start_time": "2023-04-20T15:43:11.282Z"
   },
   {
    "duration": 0,
    "start_time": "2023-04-20T15:43:11.283Z"
   },
   {
    "duration": 0,
    "start_time": "2023-04-20T15:43:11.284Z"
   },
   {
    "duration": 0,
    "start_time": "2023-04-20T15:43:11.285Z"
   },
   {
    "duration": 0,
    "start_time": "2023-04-20T15:43:11.286Z"
   },
   {
    "duration": 0,
    "start_time": "2023-04-20T15:43:11.287Z"
   },
   {
    "duration": 0,
    "start_time": "2023-04-20T15:43:11.288Z"
   },
   {
    "duration": 0,
    "start_time": "2023-04-20T15:43:11.289Z"
   },
   {
    "duration": 0,
    "start_time": "2023-04-20T15:43:11.290Z"
   },
   {
    "duration": 0,
    "start_time": "2023-04-20T15:43:11.291Z"
   },
   {
    "duration": 0,
    "start_time": "2023-04-20T15:43:11.312Z"
   },
   {
    "duration": 0,
    "start_time": "2023-04-20T15:43:11.313Z"
   },
   {
    "duration": 0,
    "start_time": "2023-04-20T15:43:11.314Z"
   },
   {
    "duration": 0,
    "start_time": "2023-04-20T15:43:11.315Z"
   },
   {
    "duration": 0,
    "start_time": "2023-04-20T15:43:11.316Z"
   },
   {
    "duration": 0,
    "start_time": "2023-04-20T15:43:11.317Z"
   },
   {
    "duration": 0,
    "start_time": "2023-04-20T15:43:11.318Z"
   },
   {
    "duration": 0,
    "start_time": "2023-04-20T15:43:11.319Z"
   },
   {
    "duration": 0,
    "start_time": "2023-04-20T15:43:11.320Z"
   },
   {
    "duration": 0,
    "start_time": "2023-04-20T15:43:11.321Z"
   },
   {
    "duration": 0,
    "start_time": "2023-04-20T15:43:11.323Z"
   },
   {
    "duration": 0,
    "start_time": "2023-04-20T15:43:11.323Z"
   },
   {
    "duration": 0,
    "start_time": "2023-04-20T15:43:11.324Z"
   },
   {
    "duration": 0,
    "start_time": "2023-04-20T15:43:11.325Z"
   },
   {
    "duration": 0,
    "start_time": "2023-04-20T15:43:11.326Z"
   },
   {
    "duration": 0,
    "start_time": "2023-04-20T15:43:11.327Z"
   },
   {
    "duration": 0,
    "start_time": "2023-04-20T15:43:11.328Z"
   },
   {
    "duration": 0,
    "start_time": "2023-04-20T15:43:11.329Z"
   },
   {
    "duration": 0,
    "start_time": "2023-04-20T15:43:11.330Z"
   },
   {
    "duration": 465,
    "start_time": "2023-04-20T15:44:23.854Z"
   },
   {
    "duration": 1216,
    "start_time": "2023-04-20T15:44:35.781Z"
   },
   {
    "duration": 16,
    "start_time": "2023-04-20T15:44:36.999Z"
   },
   {
    "duration": 9,
    "start_time": "2023-04-20T15:44:37.016Z"
   },
   {
    "duration": 10,
    "start_time": "2023-04-20T15:44:37.027Z"
   },
   {
    "duration": 11,
    "start_time": "2023-04-20T15:44:37.039Z"
   },
   {
    "duration": 32,
    "start_time": "2023-04-20T15:44:37.051Z"
   },
   {
    "duration": 47,
    "start_time": "2023-04-20T15:44:37.085Z"
   },
   {
    "duration": 93,
    "start_time": "2023-04-20T15:44:37.133Z"
   },
   {
    "duration": 8,
    "start_time": "2023-04-20T15:44:37.228Z"
   },
   {
    "duration": 8,
    "start_time": "2023-04-20T15:44:37.237Z"
   },
   {
    "duration": 352,
    "start_time": "2023-04-20T15:44:37.247Z"
   },
   {
    "duration": 203,
    "start_time": "2023-04-20T15:44:37.601Z"
   },
   {
    "duration": 351,
    "start_time": "2023-04-20T15:44:37.806Z"
   },
   {
    "duration": 15,
    "start_time": "2023-04-20T15:44:38.161Z"
   },
   {
    "duration": 6,
    "start_time": "2023-04-20T15:44:38.177Z"
   },
   {
    "duration": 189,
    "start_time": "2023-04-20T15:44:38.185Z"
   },
   {
    "duration": 19,
    "start_time": "2023-04-20T15:44:38.376Z"
   },
   {
    "duration": 132,
    "start_time": "2023-04-20T15:44:38.396Z"
   },
   {
    "duration": 124,
    "start_time": "2023-04-20T15:44:38.530Z"
   },
   {
    "duration": 109,
    "start_time": "2023-04-20T15:44:38.655Z"
   },
   {
    "duration": 238,
    "start_time": "2023-04-20T15:44:38.765Z"
   },
   {
    "duration": 182,
    "start_time": "2023-04-20T15:44:39.007Z"
   },
   {
    "duration": 166,
    "start_time": "2023-04-20T15:44:39.191Z"
   },
   {
    "duration": 147,
    "start_time": "2023-04-20T15:44:39.359Z"
   },
   {
    "duration": 151,
    "start_time": "2023-04-20T15:44:39.512Z"
   },
   {
    "duration": 174,
    "start_time": "2023-04-20T15:44:39.665Z"
   },
   {
    "duration": 174,
    "start_time": "2023-04-20T15:44:39.841Z"
   },
   {
    "duration": 191,
    "start_time": "2023-04-20T15:44:40.017Z"
   },
   {
    "duration": 184,
    "start_time": "2023-04-20T15:44:40.212Z"
   },
   {
    "duration": 280,
    "start_time": "2023-04-20T15:44:40.397Z"
   },
   {
    "duration": 200,
    "start_time": "2023-04-20T15:44:40.679Z"
   },
   {
    "duration": 9,
    "start_time": "2023-04-20T15:44:40.880Z"
   },
   {
    "duration": 23,
    "start_time": "2023-04-20T15:44:40.891Z"
   },
   {
    "duration": 1250,
    "start_time": "2023-04-20T16:07:33.393Z"
   },
   {
    "duration": 16,
    "start_time": "2023-04-20T16:07:34.645Z"
   },
   {
    "duration": 22,
    "start_time": "2023-04-20T16:07:34.663Z"
   },
   {
    "duration": 7,
    "start_time": "2023-04-20T16:07:34.688Z"
   },
   {
    "duration": 12,
    "start_time": "2023-04-20T16:07:34.713Z"
   },
   {
    "duration": 45,
    "start_time": "2023-04-20T16:07:34.727Z"
   },
   {
    "duration": 20,
    "start_time": "2023-04-20T16:07:34.774Z"
   },
   {
    "duration": 96,
    "start_time": "2023-04-20T16:07:34.796Z"
   },
   {
    "duration": 21,
    "start_time": "2023-04-20T16:07:34.893Z"
   },
   {
    "duration": 19,
    "start_time": "2023-04-20T16:07:34.916Z"
   },
   {
    "duration": 338,
    "start_time": "2023-04-20T16:07:34.937Z"
   },
   {
    "duration": 187,
    "start_time": "2023-04-20T16:07:35.276Z"
   },
   {
    "duration": 352,
    "start_time": "2023-04-20T16:07:35.464Z"
   },
   {
    "duration": 20,
    "start_time": "2023-04-20T16:07:35.819Z"
   },
   {
    "duration": 8,
    "start_time": "2023-04-20T16:07:35.841Z"
   },
   {
    "duration": 200,
    "start_time": "2023-04-20T16:07:35.851Z"
   },
   {
    "duration": 20,
    "start_time": "2023-04-20T16:07:36.052Z"
   },
   {
    "duration": 144,
    "start_time": "2023-04-20T16:07:36.074Z"
   },
   {
    "duration": 133,
    "start_time": "2023-04-20T16:07:36.220Z"
   },
   {
    "duration": 119,
    "start_time": "2023-04-20T16:07:36.355Z"
   },
   {
    "duration": 193,
    "start_time": "2023-04-20T16:07:36.476Z"
   },
   {
    "duration": 181,
    "start_time": "2023-04-20T16:07:36.671Z"
   },
   {
    "duration": 179,
    "start_time": "2023-04-20T16:07:36.854Z"
   },
   {
    "duration": 155,
    "start_time": "2023-04-20T16:07:37.035Z"
   },
   {
    "duration": 152,
    "start_time": "2023-04-20T16:07:37.192Z"
   },
   {
    "duration": 179,
    "start_time": "2023-04-20T16:07:37.346Z"
   },
   {
    "duration": 162,
    "start_time": "2023-04-20T16:07:37.527Z"
   },
   {
    "duration": 198,
    "start_time": "2023-04-20T16:07:37.692Z"
   },
   {
    "duration": 178,
    "start_time": "2023-04-20T16:07:37.892Z"
   },
   {
    "duration": 282,
    "start_time": "2023-04-20T16:07:38.072Z"
   },
   {
    "duration": 185,
    "start_time": "2023-04-20T16:07:38.356Z"
   },
   {
    "duration": 8,
    "start_time": "2023-04-20T16:07:38.542Z"
   },
   {
    "duration": 24,
    "start_time": "2023-04-20T16:07:38.552Z"
   },
   {
    "duration": 1431,
    "start_time": "2023-04-24T11:16:48.907Z"
   },
   {
    "duration": 228,
    "start_time": "2023-04-24T11:16:50.341Z"
   },
   {
    "duration": 19,
    "start_time": "2023-04-24T11:16:50.571Z"
   },
   {
    "duration": 20,
    "start_time": "2023-04-24T11:16:50.593Z"
   },
   {
    "duration": 15,
    "start_time": "2023-04-24T11:16:50.617Z"
   },
   {
    "duration": 21,
    "start_time": "2023-04-24T11:16:50.634Z"
   },
   {
    "duration": 5,
    "start_time": "2023-04-24T11:16:50.657Z"
   },
   {
    "duration": 38,
    "start_time": "2023-04-24T11:16:50.664Z"
   },
   {
    "duration": 17,
    "start_time": "2023-04-24T11:16:50.707Z"
   },
   {
    "duration": 20,
    "start_time": "2023-04-24T11:16:50.727Z"
   },
   {
    "duration": 17,
    "start_time": "2023-04-24T11:16:50.749Z"
   },
   {
    "duration": 43,
    "start_time": "2023-04-24T11:16:50.769Z"
   },
   {
    "duration": 3,
    "start_time": "2023-04-24T11:16:50.814Z"
   },
   {
    "duration": 26,
    "start_time": "2023-04-24T11:16:50.818Z"
   },
   {
    "duration": 15,
    "start_time": "2023-04-24T11:16:50.845Z"
   },
   {
    "duration": 9,
    "start_time": "2023-04-24T11:16:50.862Z"
   },
   {
    "duration": 24,
    "start_time": "2023-04-24T11:16:50.873Z"
   },
   {
    "duration": 13,
    "start_time": "2023-04-24T11:16:50.907Z"
   },
   {
    "duration": 19,
    "start_time": "2023-04-24T11:16:50.923Z"
   },
   {
    "duration": 18,
    "start_time": "2023-04-24T11:16:50.944Z"
   },
   {
    "duration": 420,
    "start_time": "2023-04-24T11:16:50.964Z"
   },
   {
    "duration": 28,
    "start_time": "2023-04-24T11:16:51.386Z"
   },
   {
    "duration": 5,
    "start_time": "2023-04-24T11:16:51.416Z"
   },
   {
    "duration": 1006,
    "start_time": "2023-04-24T11:16:51.423Z"
   },
   {
    "duration": 443,
    "start_time": "2023-04-24T11:16:52.431Z"
   },
   {
    "duration": 31,
    "start_time": "2023-04-24T11:16:52.876Z"
   },
   {
    "duration": 6,
    "start_time": "2023-04-24T11:16:52.909Z"
   },
   {
    "duration": 218,
    "start_time": "2023-04-24T11:16:52.919Z"
   },
   {
    "duration": 272,
    "start_time": "2023-04-24T11:16:53.138Z"
   },
   {
    "duration": 324,
    "start_time": "2023-04-24T11:16:53.412Z"
   },
   {
    "duration": 8,
    "start_time": "2023-04-24T11:16:53.739Z"
   },
   {
    "duration": 16,
    "start_time": "2023-04-24T11:16:53.749Z"
   },
   {
    "duration": 1917,
    "start_time": "2023-04-24T11:16:53.767Z"
   },
   {
    "duration": 1850,
    "start_time": "2023-04-24T11:16:55.686Z"
   },
   {
    "duration": 40,
    "start_time": "2023-04-24T11:16:57.538Z"
   },
   {
    "duration": 189,
    "start_time": "2023-04-24T11:16:57.593Z"
   },
   {
    "duration": 17,
    "start_time": "2023-04-24T11:16:57.784Z"
   },
   {
    "duration": 231,
    "start_time": "2023-04-24T11:16:57.802Z"
   },
   {
    "duration": 184,
    "start_time": "2023-04-24T11:16:58.035Z"
   },
   {
    "duration": 162,
    "start_time": "2023-04-24T11:16:58.221Z"
   },
   {
    "duration": 163,
    "start_time": "2023-04-24T11:16:58.385Z"
   },
   {
    "duration": 290,
    "start_time": "2023-04-24T11:16:58.550Z"
   },
   {
    "duration": 239,
    "start_time": "2023-04-24T11:16:58.842Z"
   },
   {
    "duration": 171,
    "start_time": "2023-04-24T11:16:59.083Z"
   },
   {
    "duration": 167,
    "start_time": "2023-04-24T11:16:59.256Z"
   },
   {
    "duration": 6,
    "start_time": "2023-04-24T11:16:59.425Z"
   },
   {
    "duration": 235,
    "start_time": "2023-04-24T11:16:59.432Z"
   },
   {
    "duration": 170,
    "start_time": "2023-04-24T11:16:59.668Z"
   },
   {
    "duration": 170,
    "start_time": "2023-04-24T11:16:59.840Z"
   },
   {
    "duration": 159,
    "start_time": "2023-04-24T11:17:00.013Z"
   },
   {
    "duration": 22,
    "start_time": "2023-04-24T11:17:00.174Z"
   },
   {
    "duration": 20,
    "start_time": "2023-04-24T11:17:00.203Z"
   },
   {
    "duration": 1140,
    "start_time": "2023-04-24T13:22:57.824Z"
   },
   {
    "duration": 68,
    "start_time": "2023-04-24T13:22:58.966Z"
   },
   {
    "duration": 14,
    "start_time": "2023-04-24T13:22:59.037Z"
   },
   {
    "duration": 11,
    "start_time": "2023-04-24T13:22:59.053Z"
   },
   {
    "duration": 5,
    "start_time": "2023-04-24T13:22:59.065Z"
   },
   {
    "duration": 15,
    "start_time": "2023-04-24T13:22:59.071Z"
   },
   {
    "duration": 3,
    "start_time": "2023-04-24T13:22:59.088Z"
   },
   {
    "duration": 7,
    "start_time": "2023-04-24T13:22:59.093Z"
   },
   {
    "duration": 8,
    "start_time": "2023-04-24T13:22:59.101Z"
   },
   {
    "duration": 8,
    "start_time": "2023-04-24T13:22:59.111Z"
   },
   {
    "duration": 44,
    "start_time": "2023-04-24T13:22:59.120Z"
   },
   {
    "duration": 19,
    "start_time": "2023-04-24T13:22:59.166Z"
   },
   {
    "duration": 3,
    "start_time": "2023-04-24T13:22:59.187Z"
   },
   {
    "duration": 10,
    "start_time": "2023-04-24T13:22:59.191Z"
   },
   {
    "duration": 14,
    "start_time": "2023-04-24T13:22:59.202Z"
   },
   {
    "duration": 7,
    "start_time": "2023-04-24T13:22:59.218Z"
   },
   {
    "duration": 36,
    "start_time": "2023-04-24T13:22:59.227Z"
   },
   {
    "duration": 9,
    "start_time": "2023-04-24T13:22:59.265Z"
   },
   {
    "duration": 4,
    "start_time": "2023-04-24T13:22:59.275Z"
   },
   {
    "duration": 4,
    "start_time": "2023-04-24T13:22:59.281Z"
   },
   {
    "duration": 344,
    "start_time": "2023-04-24T13:22:59.287Z"
   },
   {
    "duration": 12,
    "start_time": "2023-04-24T13:22:59.633Z"
   },
   {
    "duration": 16,
    "start_time": "2023-04-24T13:22:59.647Z"
   },
   {
    "duration": 816,
    "start_time": "2023-04-24T13:22:59.665Z"
   },
   {
    "duration": 420,
    "start_time": "2023-04-24T13:23:00.484Z"
   },
   {
    "duration": 20,
    "start_time": "2023-04-24T13:23:00.905Z"
   },
   {
    "duration": 45,
    "start_time": "2023-04-24T13:23:00.926Z"
   },
   {
    "duration": 203,
    "start_time": "2023-04-24T13:23:00.975Z"
   },
   {
    "duration": 225,
    "start_time": "2023-04-24T13:23:01.180Z"
   },
   {
    "duration": 285,
    "start_time": "2023-04-24T13:23:01.406Z"
   },
   {
    "duration": 7,
    "start_time": "2023-04-24T13:23:01.693Z"
   },
   {
    "duration": 25,
    "start_time": "2023-04-24T13:23:01.701Z"
   },
   {
    "duration": 1639,
    "start_time": "2023-04-24T13:23:01.728Z"
   },
   {
    "duration": 1672,
    "start_time": "2023-04-24T13:23:03.369Z"
   },
   {
    "duration": 61,
    "start_time": "2023-04-24T13:23:05.043Z"
   },
   {
    "duration": 185,
    "start_time": "2023-04-24T13:23:05.107Z"
   },
   {
    "duration": 6,
    "start_time": "2023-04-24T13:23:05.293Z"
   },
   {
    "duration": 231,
    "start_time": "2023-04-24T13:23:05.301Z"
   },
   {
    "duration": 145,
    "start_time": "2023-04-24T13:23:05.534Z"
   },
   {
    "duration": 143,
    "start_time": "2023-04-24T13:23:05.681Z"
   },
   {
    "duration": 146,
    "start_time": "2023-04-24T13:23:05.825Z"
   },
   {
    "duration": 261,
    "start_time": "2023-04-24T13:23:05.973Z"
   },
   {
    "duration": 224,
    "start_time": "2023-04-24T13:23:06.236Z"
   },
   {
    "duration": 137,
    "start_time": "2023-04-24T13:23:06.464Z"
   },
   {
    "duration": 144,
    "start_time": "2023-04-24T13:23:06.603Z"
   },
   {
    "duration": 17,
    "start_time": "2023-04-24T13:23:06.749Z"
   },
   {
    "duration": 187,
    "start_time": "2023-04-24T13:23:06.767Z"
   },
   {
    "duration": 140,
    "start_time": "2023-04-24T13:23:06.962Z"
   },
   {
    "duration": 153,
    "start_time": "2023-04-24T13:23:07.103Z"
   },
   {
    "duration": 160,
    "start_time": "2023-04-24T13:23:07.262Z"
   },
   {
    "duration": 16,
    "start_time": "2023-04-24T13:23:07.425Z"
   },
   {
    "duration": 29,
    "start_time": "2023-04-24T13:23:07.442Z"
   },
   {
    "duration": 8,
    "start_time": "2023-04-24T13:32:22.486Z"
   },
   {
    "duration": 1148,
    "start_time": "2023-04-24T13:34:08.906Z"
   },
   {
    "duration": 67,
    "start_time": "2023-04-24T13:34:10.055Z"
   },
   {
    "duration": 15,
    "start_time": "2023-04-24T13:34:10.123Z"
   },
   {
    "duration": 21,
    "start_time": "2023-04-24T13:34:10.141Z"
   },
   {
    "duration": 18,
    "start_time": "2023-04-24T13:34:10.163Z"
   },
   {
    "duration": 34,
    "start_time": "2023-04-24T13:34:10.182Z"
   },
   {
    "duration": 12,
    "start_time": "2023-04-24T13:34:10.217Z"
   },
   {
    "duration": 27,
    "start_time": "2023-04-24T13:34:10.231Z"
   },
   {
    "duration": 15,
    "start_time": "2023-04-24T13:34:10.260Z"
   },
   {
    "duration": 23,
    "start_time": "2023-04-24T13:34:10.278Z"
   },
   {
    "duration": 29,
    "start_time": "2023-04-24T13:34:10.303Z"
   },
   {
    "duration": 40,
    "start_time": "2023-04-24T13:34:10.334Z"
   },
   {
    "duration": 21,
    "start_time": "2023-04-24T13:34:10.375Z"
   },
   {
    "duration": 14,
    "start_time": "2023-04-24T13:34:10.398Z"
   },
   {
    "duration": 16,
    "start_time": "2023-04-24T13:34:10.414Z"
   },
   {
    "duration": 32,
    "start_time": "2023-04-24T13:34:10.432Z"
   },
   {
    "duration": 16,
    "start_time": "2023-04-24T13:34:10.465Z"
   },
   {
    "duration": 41,
    "start_time": "2023-04-24T13:34:10.482Z"
   },
   {
    "duration": 4,
    "start_time": "2023-04-24T13:34:10.525Z"
   },
   {
    "duration": 33,
    "start_time": "2023-04-24T13:34:10.530Z"
   },
   {
    "duration": 315,
    "start_time": "2023-04-24T13:34:10.565Z"
   },
   {
    "duration": 11,
    "start_time": "2023-04-24T13:34:10.882Z"
   },
   {
    "duration": 29,
    "start_time": "2023-04-24T13:34:10.895Z"
   },
   {
    "duration": 832,
    "start_time": "2023-04-24T13:34:10.926Z"
   },
   {
    "duration": 377,
    "start_time": "2023-04-24T13:34:11.763Z"
   },
   {
    "duration": 31,
    "start_time": "2023-04-24T13:34:12.141Z"
   },
   {
    "duration": 7,
    "start_time": "2023-04-24T13:34:12.173Z"
   },
   {
    "duration": 7,
    "start_time": "2023-04-24T13:34:12.184Z"
   },
   {
    "duration": 184,
    "start_time": "2023-04-24T13:34:12.193Z"
   },
   {
    "duration": 219,
    "start_time": "2023-04-24T13:34:12.379Z"
   },
   {
    "duration": 378,
    "start_time": "2023-04-24T13:34:12.600Z"
   },
   {
    "duration": 7,
    "start_time": "2023-04-24T13:34:12.979Z"
   },
   {
    "duration": 13,
    "start_time": "2023-04-24T13:34:12.988Z"
   },
   {
    "duration": 2424,
    "start_time": "2023-04-24T13:34:13.003Z"
   },
   {
    "duration": 1608,
    "start_time": "2023-04-24T13:34:15.429Z"
   },
   {
    "duration": 52,
    "start_time": "2023-04-24T13:34:17.039Z"
   },
   {
    "duration": 181,
    "start_time": "2023-04-24T13:34:17.093Z"
   },
   {
    "duration": 6,
    "start_time": "2023-04-24T13:34:17.276Z"
   },
   {
    "duration": 214,
    "start_time": "2023-04-24T13:34:17.283Z"
   },
   {
    "duration": 176,
    "start_time": "2023-04-24T13:34:17.499Z"
   },
   {
    "duration": 169,
    "start_time": "2023-04-24T13:34:17.677Z"
   },
   {
    "duration": 166,
    "start_time": "2023-04-24T13:34:17.848Z"
   },
   {
    "duration": 293,
    "start_time": "2023-04-24T13:34:18.016Z"
   },
   {
    "duration": 224,
    "start_time": "2023-04-24T13:34:18.311Z"
   },
   {
    "duration": 169,
    "start_time": "2023-04-24T13:34:18.536Z"
   },
   {
    "duration": 139,
    "start_time": "2023-04-24T13:34:18.706Z"
   },
   {
    "duration": 16,
    "start_time": "2023-04-24T13:34:18.848Z"
   },
   {
    "duration": 197,
    "start_time": "2023-04-24T13:34:18.866Z"
   },
   {
    "duration": 150,
    "start_time": "2023-04-24T13:34:19.065Z"
   },
   {
    "duration": 152,
    "start_time": "2023-04-24T13:34:19.217Z"
   },
   {
    "duration": 166,
    "start_time": "2023-04-24T13:34:19.370Z"
   },
   {
    "duration": 12,
    "start_time": "2023-04-24T13:34:19.537Z"
   },
   {
    "duration": 10,
    "start_time": "2023-04-24T13:34:19.563Z"
   },
   {
    "duration": 1556,
    "start_time": "2023-04-24T13:38:28.202Z"
   },
   {
    "duration": 22,
    "start_time": "2023-04-24T13:39:17.961Z"
   },
   {
    "duration": 7,
    "start_time": "2023-04-24T13:40:38.393Z"
   }
  ],
  "kernelspec": {
   "display_name": "Python 3 (ipykernel)",
   "language": "python",
   "name": "python3"
  },
  "language_info": {
   "codemirror_mode": {
    "name": "ipython",
    "version": 3
   },
   "file_extension": ".py",
   "mimetype": "text/x-python",
   "name": "python",
   "nbconvert_exporter": "python",
   "pygments_lexer": "ipython3",
   "version": "3.10.9"
  },
  "toc": {
   "base_numbering": 1,
   "nav_menu": {},
   "number_sections": true,
   "sideBar": true,
   "skip_h1_title": true,
   "title_cell": "Table of Contents",
   "title_sidebar": "Contents",
   "toc_cell": false,
   "toc_position": {},
   "toc_section_display": true,
   "toc_window_display": true
  },
  "varInspector": {
   "cols": {
    "lenName": 16,
    "lenType": 16,
    "lenVar": 40
   },
   "kernels_config": {
    "python": {
     "delete_cmd_postfix": "",
     "delete_cmd_prefix": "del ",
     "library": "var_list.py",
     "varRefreshCmd": "print(var_dic_list())"
    },
    "r": {
     "delete_cmd_postfix": ") ",
     "delete_cmd_prefix": "rm(",
     "library": "var_list.r",
     "varRefreshCmd": "cat(var_dic_list()) "
    }
   },
   "position": {
    "height": "144.844px",
    "left": "882px",
    "right": "20px",
    "top": "138px",
    "width": "350px"
   },
   "types_to_exclude": [
    "module",
    "function",
    "builtin_function_or_method",
    "instance",
    "_Feature"
   ],
   "window_display": false
  }
 },
 "nbformat": 4,
 "nbformat_minor": 5
}
